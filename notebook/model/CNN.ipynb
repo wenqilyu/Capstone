{
  "cells": [
    {
      "cell_type": "code",
      "execution_count": null,
      "metadata": {
        "colab": {
          "base_uri": "https://localhost:8080/"
        },
        "id": "dL7uVnbVl1pP",
        "outputId": "f057dba6-ad5c-4dd0-8499-33ecfc182fb8"
      },
      "outputs": [
        {
          "output_type": "stream",
          "name": "stdout",
          "text": [
            "Mounted at /content/gdrive\n",
            "/content/gdrive/MyDrive/Capstone\n"
          ]
        }
      ],
      "source": [
        "from google.colab import drive\n",
        "drive.mount('/content/gdrive')\n",
        "%cd /content/gdrive/MyDrive/Capstone\n",
        "\n",
        "import re\n",
        "import pandas as pd\n",
        "import string"
      ]
    },
    {
      "cell_type": "code",
      "execution_count": null,
      "metadata": {
        "colab": {
          "base_uri": "https://localhost:8080/"
        },
        "id": "z0V8fVEinW32",
        "outputId": "6db4bee1-07f1-4693-da69-0c832c0d2ca6"
      },
      "outputs": [
        {
          "output_type": "stream",
          "name": "stdout",
          "text": [
            "[nltk_data] Downloading package punkt to /root/nltk_data...\n",
            "[nltk_data]   Unzipping tokenizers/punkt.zip.\n",
            "CPU times: user 4.97 s, sys: 724 ms, total: 5.7 s\n",
            "Wall time: 9.23 s\n"
          ]
        }
      ],
      "source": [
        "%%time\n",
        "import os\n",
        "from glob import glob\n",
        "import numpy as np\n",
        "import matplotlib.pyplot as plt\n",
        "%matplotlib inline\n",
        "import pandas as pd\n",
        "import seaborn as sns\n",
        "import re\n",
        "import nltk\n",
        "import json\n",
        "import tensorflow as tf\n",
        "from tensorflow import keras\n",
        "from tensorflow.keras import regularizers\n",
        "from keras import models\n",
        "from keras import layers\n",
        "from tensorflow.keras.layers import LSTM,GRU,InputLayer\n",
        "from tensorflow.keras.models import load_model\n",
        "from sklearn.metrics import confusion_matrix\n",
        "from sklearn.metrics import classification_report \n",
        "from sklearn.model_selection import train_test_split\n",
        "from sklearn.linear_model import LogisticRegression\n",
        "from sklearn.tree import DecisionTreeClassifier\n",
        "from sklearn.ensemble import RandomForestClassifier\n",
        "from sklearn.naive_bayes import MultinomialNB\n",
        "from sklearn.svm import SVC\n",
        "from sklearn.metrics import accuracy_score,precision_score,recall_score,f1_score,roc_auc_score\n",
        "from sklearn.metrics import average_precision_score,roc_auc_score, roc_curve, precision_recall_curve\n",
        "from sklearn.preprocessing import LabelEncoder\n",
        "from sklearn.feature_extraction.text import TfidfVectorizer\n",
        "from tensorflow.keras.preprocessing.text import Tokenizer\n",
        "import nltk\n",
        "nltk.download('punkt')\n",
        "from nltk.corpus import stopwords\n",
        "\n",
        "from nltk.tokenize import word_tokenize"
      ]
    },
    {
      "cell_type": "code",
      "source": [
        "! pip install spacy\n",
        "! pip install spacy_cld\n",
        "import spacy\n",
        "from spacy.lang.en.stop_words import STOP_WORDS\n",
        "from spacy.language import Language\n",
        "from spacy_cld import LanguageDetector\n",
        "nlp = spacy.load('en')\n",
        "language_detector = LanguageDetector()\n",
        "nlp.add_pipe(language_detector)"
      ],
      "metadata": {
        "colab": {
          "base_uri": "https://localhost:8080/"
        },
        "id": "P9z_YX_sWGNS",
        "outputId": "0f1de369-6a1e-486a-b390-0aa94b7c6a44"
      },
      "execution_count": null,
      "outputs": [
        {
          "output_type": "stream",
          "name": "stdout",
          "text": [
            "Requirement already satisfied: spacy in /usr/local/lib/python3.7/dist-packages (2.2.4)\n",
            "Requirement already satisfied: wasabi<1.1.0,>=0.4.0 in /usr/local/lib/python3.7/dist-packages (from spacy) (0.9.1)\n",
            "Requirement already satisfied: preshed<3.1.0,>=3.0.2 in /usr/local/lib/python3.7/dist-packages (from spacy) (3.0.6)\n",
            "Requirement already satisfied: blis<0.5.0,>=0.4.0 in /usr/local/lib/python3.7/dist-packages (from spacy) (0.4.1)\n",
            "Requirement already satisfied: plac<1.2.0,>=0.9.6 in /usr/local/lib/python3.7/dist-packages (from spacy) (1.1.3)\n",
            "Requirement already satisfied: tqdm<5.0.0,>=4.38.0 in /usr/local/lib/python3.7/dist-packages (from spacy) (4.64.0)\n",
            "Requirement already satisfied: srsly<1.1.0,>=1.0.2 in /usr/local/lib/python3.7/dist-packages (from spacy) (1.0.5)\n",
            "Requirement already satisfied: numpy>=1.15.0 in /usr/local/lib/python3.7/dist-packages (from spacy) (1.21.5)\n",
            "Requirement already satisfied: thinc==7.4.0 in /usr/local/lib/python3.7/dist-packages (from spacy) (7.4.0)\n",
            "Requirement already satisfied: cymem<2.1.0,>=2.0.2 in /usr/local/lib/python3.7/dist-packages (from spacy) (2.0.6)\n",
            "Requirement already satisfied: requests<3.0.0,>=2.13.0 in /usr/local/lib/python3.7/dist-packages (from spacy) (2.23.0)\n",
            "Requirement already satisfied: catalogue<1.1.0,>=0.0.7 in /usr/local/lib/python3.7/dist-packages (from spacy) (1.0.0)\n",
            "Requirement already satisfied: murmurhash<1.1.0,>=0.28.0 in /usr/local/lib/python3.7/dist-packages (from spacy) (1.0.6)\n",
            "Requirement already satisfied: setuptools in /usr/local/lib/python3.7/dist-packages (from spacy) (57.4.0)\n",
            "Requirement already satisfied: importlib-metadata>=0.20 in /usr/local/lib/python3.7/dist-packages (from catalogue<1.1.0,>=0.0.7->spacy) (4.11.3)\n",
            "Requirement already satisfied: typing-extensions>=3.6.4 in /usr/local/lib/python3.7/dist-packages (from importlib-metadata>=0.20->catalogue<1.1.0,>=0.0.7->spacy) (4.1.1)\n",
            "Requirement already satisfied: zipp>=0.5 in /usr/local/lib/python3.7/dist-packages (from importlib-metadata>=0.20->catalogue<1.1.0,>=0.0.7->spacy) (3.8.0)\n",
            "Requirement already satisfied: idna<3,>=2.5 in /usr/local/lib/python3.7/dist-packages (from requests<3.0.0,>=2.13.0->spacy) (2.10)\n",
            "Requirement already satisfied: chardet<4,>=3.0.2 in /usr/local/lib/python3.7/dist-packages (from requests<3.0.0,>=2.13.0->spacy) (3.0.4)\n",
            "Requirement already satisfied: urllib3!=1.25.0,!=1.25.1,<1.26,>=1.21.1 in /usr/local/lib/python3.7/dist-packages (from requests<3.0.0,>=2.13.0->spacy) (1.24.3)\n",
            "Requirement already satisfied: certifi>=2017.4.17 in /usr/local/lib/python3.7/dist-packages (from requests<3.0.0,>=2.13.0->spacy) (2021.10.8)\n",
            "Collecting spacy_cld\n",
            "  Downloading spacy_cld-0.1.0.tar.gz (3.3 kB)\n",
            "Requirement already satisfied: spacy<3.0.0,>=2.0.0 in /usr/local/lib/python3.7/dist-packages (from spacy_cld) (2.2.4)\n",
            "Collecting pycld2>=0.31\n",
            "  Downloading pycld2-0.41.tar.gz (41.4 MB)\n",
            "\u001b[K     |████████████████████████████████| 41.4 MB 2.2 MB/s \n",
            "\u001b[?25hRequirement already satisfied: cymem<2.1.0,>=2.0.2 in /usr/local/lib/python3.7/dist-packages (from spacy<3.0.0,>=2.0.0->spacy_cld) (2.0.6)\n",
            "Requirement already satisfied: wasabi<1.1.0,>=0.4.0 in /usr/local/lib/python3.7/dist-packages (from spacy<3.0.0,>=2.0.0->spacy_cld) (0.9.1)\n",
            "Requirement already satisfied: catalogue<1.1.0,>=0.0.7 in /usr/local/lib/python3.7/dist-packages (from spacy<3.0.0,>=2.0.0->spacy_cld) (1.0.0)\n",
            "Requirement already satisfied: requests<3.0.0,>=2.13.0 in /usr/local/lib/python3.7/dist-packages (from spacy<3.0.0,>=2.0.0->spacy_cld) (2.23.0)\n",
            "Requirement already satisfied: thinc==7.4.0 in /usr/local/lib/python3.7/dist-packages (from spacy<3.0.0,>=2.0.0->spacy_cld) (7.4.0)\n",
            "Requirement already satisfied: murmurhash<1.1.0,>=0.28.0 in /usr/local/lib/python3.7/dist-packages (from spacy<3.0.0,>=2.0.0->spacy_cld) (1.0.6)\n",
            "Requirement already satisfied: numpy>=1.15.0 in /usr/local/lib/python3.7/dist-packages (from spacy<3.0.0,>=2.0.0->spacy_cld) (1.21.5)\n",
            "Requirement already satisfied: blis<0.5.0,>=0.4.0 in /usr/local/lib/python3.7/dist-packages (from spacy<3.0.0,>=2.0.0->spacy_cld) (0.4.1)\n",
            "Requirement already satisfied: setuptools in /usr/local/lib/python3.7/dist-packages (from spacy<3.0.0,>=2.0.0->spacy_cld) (57.4.0)\n",
            "Requirement already satisfied: plac<1.2.0,>=0.9.6 in /usr/local/lib/python3.7/dist-packages (from spacy<3.0.0,>=2.0.0->spacy_cld) (1.1.3)\n",
            "Requirement already satisfied: preshed<3.1.0,>=3.0.2 in /usr/local/lib/python3.7/dist-packages (from spacy<3.0.0,>=2.0.0->spacy_cld) (3.0.6)\n",
            "Requirement already satisfied: tqdm<5.0.0,>=4.38.0 in /usr/local/lib/python3.7/dist-packages (from spacy<3.0.0,>=2.0.0->spacy_cld) (4.64.0)\n",
            "Requirement already satisfied: srsly<1.1.0,>=1.0.2 in /usr/local/lib/python3.7/dist-packages (from spacy<3.0.0,>=2.0.0->spacy_cld) (1.0.5)\n",
            "Requirement already satisfied: importlib-metadata>=0.20 in /usr/local/lib/python3.7/dist-packages (from catalogue<1.1.0,>=0.0.7->spacy<3.0.0,>=2.0.0->spacy_cld) (4.11.3)\n",
            "Requirement already satisfied: typing-extensions>=3.6.4 in /usr/local/lib/python3.7/dist-packages (from importlib-metadata>=0.20->catalogue<1.1.0,>=0.0.7->spacy<3.0.0,>=2.0.0->spacy_cld) (4.1.1)\n",
            "Requirement already satisfied: zipp>=0.5 in /usr/local/lib/python3.7/dist-packages (from importlib-metadata>=0.20->catalogue<1.1.0,>=0.0.7->spacy<3.0.0,>=2.0.0->spacy_cld) (3.8.0)\n",
            "Requirement already satisfied: chardet<4,>=3.0.2 in /usr/local/lib/python3.7/dist-packages (from requests<3.0.0,>=2.13.0->spacy<3.0.0,>=2.0.0->spacy_cld) (3.0.4)\n",
            "Requirement already satisfied: idna<3,>=2.5 in /usr/local/lib/python3.7/dist-packages (from requests<3.0.0,>=2.13.0->spacy<3.0.0,>=2.0.0->spacy_cld) (2.10)\n",
            "Requirement already satisfied: certifi>=2017.4.17 in /usr/local/lib/python3.7/dist-packages (from requests<3.0.0,>=2.13.0->spacy<3.0.0,>=2.0.0->spacy_cld) (2021.10.8)\n",
            "Requirement already satisfied: urllib3!=1.25.0,!=1.25.1,<1.26,>=1.21.1 in /usr/local/lib/python3.7/dist-packages (from requests<3.0.0,>=2.13.0->spacy<3.0.0,>=2.0.0->spacy_cld) (1.24.3)\n",
            "Building wheels for collected packages: spacy-cld, pycld2\n",
            "  Building wheel for spacy-cld (setup.py) ... \u001b[?25l\u001b[?25hdone\n",
            "  Created wheel for spacy-cld: filename=spacy_cld-0.1.0-py3-none-any.whl size=4065 sha256=1cbc0e1ed347d1fc4687c89f84bbbb899311faa1903db8c5f8c8a316955a5eec\n",
            "  Stored in directory: /root/.cache/pip/wheels/82/6b/8f/260626615a2629391aca1fce5d3c676dde154f8aabb18d25bf\n",
            "  Building wheel for pycld2 (setup.py) ... \u001b[?25l\u001b[?25hdone\n",
            "  Created wheel for pycld2: filename=pycld2-0.41-cp37-cp37m-linux_x86_64.whl size=9834294 sha256=4caf153d745fa7fa3560feb01cec2840a6f9daa6c69d7db59ee4a9bec3dbfcbf\n",
            "  Stored in directory: /root/.cache/pip/wheels/ed/e4/58/ed2e9f43c07d617cc81fe7aff0fc6e42b16c9cf6afe960b614\n",
            "Successfully built spacy-cld pycld2\n",
            "Installing collected packages: pycld2, spacy-cld\n",
            "Successfully installed pycld2-0.41 spacy-cld-0.1.0\n"
          ]
        }
      ]
    },
    {
      "cell_type": "code",
      "execution_count": null,
      "metadata": {
        "id": "GeefVn2WoOvk"
      },
      "outputs": [],
      "source": [
        "from sklearn import model_selection"
      ]
    },
    {
      "cell_type": "code",
      "source": [
        "dt.loc[dt['tag']==\"real\",'tag'] = 1\n",
        "dt.loc[dt['tag']==\"fake\",'tag']  = 0"
      ],
      "metadata": {
        "id": "5Ex34YRWXF9d"
      },
      "execution_count": null,
      "outputs": []
    },
    {
      "cell_type": "code",
      "source": [
        "puncts = list(string.punctuation)\n",
        "def clean_data(text):\n",
        "  # delete punctuation\n",
        "  for punc in puncts:\n",
        "    if punc in text:\n",
        "      text = text.replace(punc, f'')\n",
        "  #make the text lower case\n",
        "  text=text.lower()\n",
        "  # delete the url\n",
        "  text=re.sub(r'(https|http)?:\\/\\/(\\w|\\.|\\/|\\?|\\=|\\&|\\%)*\\b', '', text)\n",
        "  # delete the email\n",
        "  text=re.sub(r'^([\\w]+\\.*)([\\w]+)\\@[\\w]+\\.\\w{3}(\\.\\w{2}|)', '', text)\n",
        "  # delete @someone\n",
        "  text=re.sub(r'@\\S+', '', text)\n",
        "  # delete #tags\n",
        "  text=re.sub(r'#\\S+', '', text)\n",
        "  # delete \\n\n",
        "  text=re.sub(r'^\\s*$(?:\\n|\\r\\n)', '', text)\n",
        "  return text"
      ],
      "metadata": {
        "id": "AYS13ox2Vlbj"
      },
      "execution_count": null,
      "outputs": []
    },
    {
      "cell_type": "code",
      "source": [
        "dt['text']=dt['text'].apply(clean_data)"
      ],
      "metadata": {
        "id": "ORV0jGHUVr2v"
      },
      "execution_count": null,
      "outputs": []
    },
    {
      "cell_type": "code",
      "source": [
        "dt['text'] = dt['text'].apply(lambda text: \n",
        "                                          \" \".join(token.lemma_ for token in nlp(text) \n",
        "                                                   if not token.is_stop))"
      ],
      "metadata": {
        "id": "g-4R0ep_V_9t"
      },
      "execution_count": null,
      "outputs": []
    },
    {
      "cell_type": "code",
      "execution_count": null,
      "metadata": {
        "id": "dYG_4eJmnhlQ"
      },
      "outputs": [],
      "source": [
        "train, test = model_selection.train_test_split(dt,test_size=0.2)"
      ]
    },
    {
      "cell_type": "code",
      "execution_count": null,
      "metadata": {
        "id": "BNIIBk-6s5_B"
      },
      "outputs": [],
      "source": [
        "from tensorflow.keras.preprocessing.text import Tokenizer\n",
        "\n",
        "def text_encoding(texts, labels, max_words, padding_length):\n",
        "  tokenizer = Tokenizer(num_words = max_words, filters='!\"#$%&()*+,-./:;<=>?@[\\\\]^_`{|}~\\t\\n-', \n",
        "                      split=' ', char_level=False, oov_token=None, document_count=0)\n",
        "  tokenizer.fit_on_texts(texts)\n",
        "  (word_counts,word_docs,word_index,document_count) = (tokenizer.word_counts,\n",
        "                                                       tokenizer.word_docs,\n",
        "                                                       tokenizer.word_index,\n",
        "                                                       tokenizer.document_count)\n",
        "  \n",
        "  def tokenizer_info(mylist):\n",
        "    ordered = sorted(mylist.items(), key= lambda item: item[1],reverse = True)\n",
        "  tokenizer_info(word_counts)\n",
        "  tokenizer_info(word_docs)\n",
        "  tokenizer_info(word_index)    \n",
        "\n",
        "  sequences = tokenizer.texts_to_sequences(texts)\n",
        "  word_index = tokenizer.word_index\n",
        "\n",
        "  corpus = keras.preprocessing.sequence.pad_sequences(sequences, value=0.0,\n",
        "                                                      padding='post', maxlen= padding_length)\n",
        "  return corpus, labels, tokenizer\n",
        "\n",
        "max_words = 20000\n",
        "padding_length = 100\n",
        "corpus, labels, tokenizer = text_encoding(train.text, train.tag, max_words, padding_length)  "
      ]
    },
    {
      "cell_type": "code",
      "source": [
        "training_data,training_labels=corpus, labels"
      ],
      "metadata": {
        "id": "wKRYH-FwPEFr"
      },
      "execution_count": null,
      "outputs": []
    },
    {
      "cell_type": "code",
      "execution_count": null,
      "metadata": {
        "id": "_samUyRonSdZ"
      },
      "outputs": [],
      "source": [
        "def define_callback():\n",
        "  keras.backend.clear_session()\n",
        "  accuracy_threshold = .999\n",
        "\n",
        "  class myCallback(keras.callbacks.Callback):\n",
        "    def on_epoch_end(self, epoch, logs={}):\n",
        "        if(logs.get('accuracy')>accuracy_threshold):\n",
        "          print(\"\\nReached %2.2f%% accuracy so we will stop trianing\" % (accuracy_threshold*100))\n",
        "          self.model.stop_training = True\n",
        "\n",
        "  acc_callback = myCallback()\n",
        "  return acc_callback"
      ]
    },
    {
      "cell_type": "code",
      "execution_count": null,
      "metadata": {
        "id": "tHsLAw6ImrkU"
      },
      "outputs": [],
      "source": [
        "class_names=[True,False]\n",
        "def create_model(embedding_dim):\n",
        "  keras.backend.clear_session()\n",
        "  no_of_class = len(class_names)\n",
        "  model = keras.models.Sequential([\n",
        "      keras.layers.Embedding(max_words, embedding_dim, input_length = padding_length),\n",
        "      keras.layers.Conv1D(64, 5, activation='relu'),\n",
        "      keras.layers.MaxPooling1D(5),\n",
        "      keras.layers.Bidirectional(LSTM(32, dropout=0.2)),\n",
        "      keras.layers.Flatten(),\n",
        "      keras.layers.Dense(no_of_class, activation = 'softmax')\n",
        "  ])\n",
        "  return model\n",
        "def model_visualize(model):\n",
        "  from tensorflow.keras.utils import plot_model\n",
        "  plot_model(model, to_file = 'print.png', show_shapes = True, show_layer_names = True)\n",
        "\n",
        "def compile_model(model):\n",
        "  model.compile(optimizer='adam',\n",
        "                  loss='sparse_categorical_crossentropy',\n",
        "                  metrics='accuracy')\n",
        "  return model"
      ]
    },
    {
      "cell_type": "code",
      "execution_count": null,
      "metadata": {
        "colab": {
          "base_uri": "https://localhost:8080/"
        },
        "id": "hK8bY2HAnKHj",
        "outputId": "5a92ae0f-5e8d-4bb9-c05f-125e5aaadd07"
      },
      "outputs": [
        {
          "output_type": "stream",
          "name": "stdout",
          "text": [
            "The tensorboard extension is already loaded. To reload it, use:\n",
            "  %reload_ext tensorboard\n",
            "Model: \"sequential\"\n",
            "_________________________________________________________________\n",
            " Layer (type)                Output Shape              Param #   \n",
            "=================================================================\n",
            " embedding (Embedding)       (None, 100, 100)          2000000   \n",
            "                                                                 \n",
            " conv1d (Conv1D)             (None, 96, 64)            32064     \n",
            "                                                                 \n",
            " max_pooling1d (MaxPooling1D  (None, 19, 64)           0         \n",
            " )                                                               \n",
            "                                                                 \n",
            " bidirectional (Bidirectiona  (None, 64)               24832     \n",
            " l)                                                              \n",
            "                                                                 \n",
            " flatten (Flatten)           (None, 64)                0         \n",
            "                                                                 \n",
            " dense (Dense)               (None, 2)                 130       \n",
            "                                                                 \n",
            "=================================================================\n",
            "Total params: 2,057,026\n",
            "Trainable params: 2,057,026\n",
            "Non-trainable params: 0\n",
            "_________________________________________________________________\n",
            "CPU times: user 1.7 s, sys: 101 ms, total: 1.8 s\n",
            "Wall time: 2.13 s\n"
          ]
        }
      ],
      "source": [
        "def run_callback_list():\n",
        "  acc_callback = define_callback()\n",
        "  checkpoint = define_checkpoint()\n",
        "  tensorboard_callback = define_TensorBoard()\n",
        "  return [acc_callback, checkpoint, tensorboard_callback] \n",
        "callback_list = run_callback_list()\n",
        "def run_model():\n",
        "    embedding_dim = 100\n",
        "    model = create_model(embedding_dim)\n",
        "    model = compile_model(model)\n",
        "    model_visualize(model)\n",
        "    return model\n",
        "\n",
        "cnn_lstm_model = run_model() "
      ]
    },
    {
      "cell_type": "code",
      "execution_count": null,
      "metadata": {
        "colab": {
          "base_uri": "https://localhost:8080/"
        },
        "id": "7qvwPrdInRSl",
        "outputId": "a0aa16ce-809e-44eb-eba2-9aff1bcc6bd7"
      },
      "outputs": [
        {
          "output_type": "stream",
          "name": "stdout",
          "text": [
            "Epoch 1/20\n",
            "35/35 [==============================] - ETA: 0s - loss: 0.5781 - accuracy: 0.7480\n",
            "Epoch 1: val_accuracy improved from -inf to 0.82101, saving model to ModelOnOurData.h5\n",
            "35/35 [==============================] - 12s 198ms/step - loss: 0.5781 - accuracy: 0.7480 - val_loss: 0.4051 - val_accuracy: 0.8210\n",
            "Epoch 2/20\n",
            "35/35 [==============================] - ETA: 0s - loss: 0.2571 - accuracy: 0.8964\n",
            "Epoch 2: val_accuracy improved from 0.82101 to 0.88975, saving model to ModelOnOurData.h5\n",
            "35/35 [==============================] - 5s 156ms/step - loss: 0.2571 - accuracy: 0.8964 - val_loss: 0.2551 - val_accuracy: 0.8898\n",
            "Epoch 3/20\n",
            "35/35 [==============================] - ETA: 0s - loss: 0.0754 - accuracy: 0.9748\n",
            "Epoch 3: val_accuracy improved from 0.88975 to 0.90143, saving model to ModelOnOurData.h5\n",
            "35/35 [==============================] - 6s 166ms/step - loss: 0.0754 - accuracy: 0.9748 - val_loss: 0.2511 - val_accuracy: 0.9014\n",
            "Epoch 4/20\n",
            "35/35 [==============================] - ETA: 0s - loss: 0.0214 - accuracy: 0.9934\n",
            "Epoch 4: val_accuracy improved from 0.90143 to 0.91310, saving model to ModelOnOurData.h5\n",
            "35/35 [==============================] - 6s 173ms/step - loss: 0.0214 - accuracy: 0.9934 - val_loss: 0.3036 - val_accuracy: 0.9131\n",
            "Epoch 5/20\n",
            "35/35 [==============================] - ETA: 0s - loss: 0.0059 - accuracy: 0.9993\n",
            "Reached 99.90% accuracy so we will stop trianing\n",
            "\n",
            "Epoch 5: val_accuracy did not improve from 0.91310\n",
            "35/35 [==============================] - 6s 165ms/step - loss: 0.0059 - accuracy: 0.9993 - val_loss: 0.3728 - val_accuracy: 0.9131\n"
          ]
        }
      ],
      "source": [
        "cnn_lstm_model_history = cnn_lstm_model.fit(training_data,\n",
        "                              training_labels.astype(int),\n",
        "                              epochs = 20,\n",
        "                              batch_size = 128,\n",
        "                              verbose = 1,\n",
        "                              validation_split = 0.15,\n",
        "                              callbacks = callback_list)"
      ]
    },
    {
      "cell_type": "code",
      "source": [
        "import matplotlib.pyplot as plt\n",
        "plt.plot(cnn_lstm_model_history.history['accuracy'], label='accuracy')\n",
        "plt.plot(cnn_lstm_model_history.history['val_accuracy'], label = 'val_accuracy')\n",
        "plt.xlabel('Epoch')\n",
        "plt.ylabel('Accuracy')\n",
        "plt.ylim([0.5, 1])\n",
        "plt.legend(loc='lower right')\n",
        "plt.show()"
      ],
      "metadata": {
        "colab": {
          "base_uri": "https://localhost:8080/",
          "height": 283
        },
        "id": "Ydem7tX3pyld",
        "outputId": "c5fb83d9-6485-4608-c909-740df211aff1"
      },
      "execution_count": null,
      "outputs": [
        {
          "output_type": "display_data",
          "data": {
            "text/plain": [
              "<Figure size 432x288 with 1 Axes>"
            ],
            "image/png": "[encoded data removed]"
          },
          "metadata": {
            "needs_background": "light"
          }
        }
      ]
    },
    {
      "cell_type": "code",
      "source": [
        "val_sequences = tokenizer.texts_to_sequences(test.text)\n",
        "val_data = keras.preprocessing.sequence.pad_sequences(val_sequences, value=0.0,\n",
        "                                                      padding='post', maxlen= padding_length)\n",
        "val_labels = test.tag"
      ],
      "metadata": {
        "id": "lkxKqTf9ujmd"
      },
      "execution_count": null,
      "outputs": []
    },
    {
      "cell_type": "code",
      "source": [
        "test_loss, test_acc = cnn_lstm_model.evaluate(val_data,val_labels.astype(int))"
      ],
      "metadata": {
        "colab": {
          "base_uri": "https://localhost:8080/"
        },
        "id": "CDBBEbS4uOuf",
        "outputId": "ca88488c-ae0d-49d2-b7aa-fd5bb98a3181"
      },
      "execution_count": null,
      "outputs": [
        {
          "output_type": "stream",
          "name": "stdout",
          "text": [
            "41/41 [==============================] - 0s 12ms/step - loss: 0.4217 - accuracy: 0.9065\n"
          ]
        }
      ]
    },
    {
      "cell_type": "code",
      "source": [
        "predicted_probability = cnn_lstm_model.predict(val_data)\n",
        "print(predicted_probability)\n",
        "\n",
        "predicted_classess = np.argmax(cnn_lstm_model.predict(val_data), axis=-1)\n",
        "print(predicted_classess)"
      ],
      "metadata": {
        "colab": {
          "base_uri": "https://localhost:8080/"
        },
        "id": "tpMggcq-v8fG",
        "outputId": "7dac39ae-88f9-47c6-ba38-3e0c6a538026"
      },
      "execution_count": null,
      "outputs": [
        {
          "output_type": "stream",
          "name": "stdout",
          "text": [
            "[[3.8821898e-07 9.9999964e-01]\n",
            " [5.1687033e-07 9.9999952e-01]\n",
            " [9.9983001e-01 1.6999961e-04]\n",
            " ...\n",
            " [1.3847534e-04 9.9986148e-01]\n",
            " [9.9125602e-05 9.9990082e-01]\n",
            " [2.4113901e-05 9.9997592e-01]]\n",
            "[1 1 0 ... 1 1 1]\n"
          ]
        }
      ]
    },
    {
      "cell_type": "code",
      "source": [
        "qa=pd.read_csv('news.csv')"
      ],
      "metadata": {
        "id": "dzstwKmfX72V"
      },
      "execution_count": null,
      "outputs": []
    },
    {
      "cell_type": "code",
      "source": [
        "qa.head(2)"
      ],
      "metadata": {
        "id": "HawZ7DSqszra"
      },
      "execution_count": null,
      "outputs": []
    },
    {
      "cell_type": "code",
      "source": [
        "import pandas as pd\n",
        "import numpy as np\n",
        "\n",
        "from sklearn.feature_extraction.text import TfidfVectorizer\n",
        "from sklearn.metrics.pairwise import cosine_similarity"
      ],
      "metadata": {
        "id": "HZ9bAMhOpw-2"
      },
      "execution_count": null,
      "outputs": []
    },
    {
      "cell_type": "code",
      "source": [
        "sentences=[\"WHO has stated there is no possibility that coronavirus is transmitted by aerosols.\"]"
      ],
      "metadata": {
        "id": "NNlqbXeArrqw"
      },
      "execution_count": null,
      "outputs": []
    },
    {
      "cell_type": "code",
      "source": [
        "import pandas as pd\n",
        "import numpy as np\n",
        "\n",
        "from sklearn.feature_extraction.text import TfidfVectorizer\n",
        "from sklearn.metrics.pairwise import cosine_similarity"
      ],
      "metadata": {
        "id": "LjFotguqslXz"
      },
      "execution_count": null,
      "outputs": []
    },
    {
      "cell_type": "code",
      "source": [
        "corpus = list(qa['question'].values)\n",
        "corpus=sentences+corpus\n",
        "vectorizer = TfidfVectorizer()\n",
        "X = vectorizer.fit_transform(corpus)"
      ],
      "metadata": {
        "id": "y9vPpMqGsnJS"
      },
      "execution_count": null,
      "outputs": []
    },
    {
      "cell_type": "code",
      "source": [
        "! pip install sentence_transformers"
      ],
      "metadata": {
        "id": "7jVoZjWQxV3S"
      },
      "execution_count": null,
      "outputs": []
    },
    {
      "cell_type": "code",
      "source": [
        "from sentence_transformers import SentenceTransformer\n",
        "model = SentenceTransformer('distilbert-base-nli-mean-tokens')\n",
        "\n",
        "\n",
        "sentence_embeddings = model.encode(corpus)\n",
        "\n",
        "for sentence, embedding in zip(sentences, sentence_embeddings):\n",
        "    print(\"Sentence:\", sentence)\n",
        "    print(\"Embedding:\", embedding)\n",
        "    print(\"\")"
      ],
      "metadata": {
        "id": "P1dhWTKespYm"
      },
      "execution_count": null,
      "outputs": []
    },
    {
      "cell_type": "code",
      "source": [
        "from sentence_transformers import SentenceTransformer, util\n",
        "sim_list=[]\n",
        "for i in range(len(sentence_embeddings)):\n",
        "  sim=util.pytorch_cos_sim(sentence_embeddings[0], sentence_embeddings[i]).item()\n",
        "  sim_list.append(sim)"
      ],
      "metadata": {
        "id": "Ke-GWBcAtlBC"
      },
      "execution_count": null,
      "outputs": []
    },
    {
      "cell_type": "code",
      "source": [
        "max(sim_list[1:])"
      ],
      "metadata": {
        "id": "iXdVgm6vyXuh"
      },
      "execution_count": null,
      "outputs": []
    },
    {
      "cell_type": "code",
      "source": [
        "sim_list.index(max(sim_list[1:]))"
      ],
      "metadata": {
        "id": "L0XonVl43VCE"
      },
      "execution_count": null,
      "outputs": []
    },
    {
      "cell_type": "code",
      "source": [
        "corpus[231]"
      ],
      "metadata": {
        "id": "pwysI9sRya2j"
      },
      "execution_count": null,
      "outputs": []
    },
    {
      "cell_type": "code",
      "source": [
        "tmp"
      ],
      "metadata": {
        "id": "XmcfMEeoydh4"
      },
      "execution_count": null,
      "outputs": []
    },
    {
      "cell_type": "code",
      "source": [
        "puncts = list(string.punctuation)\n",
        "def clean_data(text):\n",
        "  # delete punctuation\n",
        "  for punc in puncts:\n",
        "    if punc in text:\n",
        "      text = text.replace(punc, f'')\n",
        "  #make the text lower case\n",
        "  text=text.lower()\n",
        "  # delete the url\n",
        "  text=re.sub(r'(https|http)?:\\/\\/(\\w|\\.|\\/|\\?|\\=|\\&|\\%)*\\b', '', text)\n",
        "  # delete the email\n",
        "  text=re.sub(r'^([\\w]+\\.*)([\\w]+)\\@[\\w]+\\.\\w{3}(\\.\\w{2}|)', '', text)\n",
        "  # delete @someone\n",
        "  text=re.sub(r'@\\S+', '', text)\n",
        "  # delete #tags\n",
        "  text=re.sub(r'#\\S+', '', text)\n",
        "  # delete \\n\n",
        "  text=re.sub(r'^\\s*$(?:\\n|\\r\\n)', '', text)\n",
        "  return text"
      ],
      "metadata": {
        "id": "lt10TBxp7a1K"
      },
      "execution_count": null,
      "outputs": []
    },
    {
      "cell_type": "code",
      "source": [
        "qa['question']=qa['question'].apply(clean_data)"
      ],
      "metadata": {
        "id": "0y8Yzcf77b_d"
      },
      "execution_count": null,
      "outputs": []
    },
    {
      "cell_type": "code",
      "source": [
        "! pip install spacy\n",
        "! pip install spacy_cld\n",
        "import spacy\n",
        "from spacy.lang.en.stop_words import STOP_WORDS\n",
        "from spacy.language import Language\n",
        "from spacy_cld import LanguageDetector\n",
        "nlp = spacy.load('en')\n",
        "language_detector = LanguageDetector()\n",
        "nlp.add_pipe(language_detector)\n",
        "stopwords=list(STOP_WORDS)\n",
        "\n",
        "for word in stopwords:\n",
        "    nlp.vocab[word].is_stop = True\n",
        "qa['question'] = qa['question'].apply(lambda text: \n",
        "                                          \" \".join(token.lemma_ for token in nlp(text) \n",
        "                                                   if not token.is_stop))"
      ],
      "metadata": {
        "id": "CxBCaJ0q70Vl"
      },
      "execution_count": null,
      "outputs": []
    },
    {
      "cell_type": "code",
      "source": [
        "import nltk\n",
        "from nltk.stem import WordNetLemmatizer \n",
        "from nltk.tokenize import word_tokenize\n",
        "nltk.download('wordnet')\n",
        "wnl = WordNetLemmatizer() \n",
        "for i in range(len(qa)):\n",
        "  qa['question'][i]=wnl.lemmatize(qa['question'][i])"
      ],
      "metadata": {
        "id": "gohFMEE570Xu"
      },
      "execution_count": null,
      "outputs": []
    },
    {
      "cell_type": "code",
      "source": [
        "df = pd.DataFrame( {'Sumcription': [\"WHO has stated there is no possibility that coronavirus is transmitted by aerosols.\"]})\n",
        "\n",
        "df['Sumcription_lema'] = df.Sumcription.apply(lambda text: \n",
        "                                          \" \".join(token.lemma_ for token in nlp(text) \n",
        "                                                   if not token.is_stop))\n",
        "for i in range(len(df)):\n",
        "  df['Sumcription_lema'][i]=wnl.lemmatize(df['Sumcription_lema'][i])"
      ],
      "metadata": {
        "id": "PkYIsltr8iLQ"
      },
      "execution_count": null,
      "outputs": []
    },
    {
      "cell_type": "code",
      "source": [
        "corpus = list(qa['question'].values)\n",
        "sentences=list(df['Sumcription_lema'].values)\n",
        "corpus=sentences+corpus"
      ],
      "metadata": {
        "id": "mpt49gD98cb0"
      },
      "execution_count": null,
      "outputs": []
    },
    {
      "cell_type": "code",
      "source": [
        "def jaccard_similarity(x,y):\n",
        "  \"\"\" returns the jaccard similarity between two lists \"\"\"\n",
        "  intersection_cardinality = len(set.intersection(*[set(x), set(y)]))\n",
        "  union_cardinality = len(set.union(*[set(x), set(y)]))\n",
        "  return intersection_cardinality/float(union_cardinality)\n"
      ],
      "metadata": {
        "id": "xG-18j5p2zaT"
      },
      "execution_count": null,
      "outputs": []
    },
    {
      "cell_type": "code",
      "source": [
        "sentences = [sent.lower().split(\" \") for sent in corpus]\n",
        "sim_jac=[]\n",
        "for i in range(len(corpus)):\n",
        "  sim=jaccard_similarity(sentences[0], sentences[i])\n",
        "  sim_jac.append(sim)"
      ],
      "metadata": {
        "id": "1MZ99iEL5gCT"
      },
      "execution_count": null,
      "outputs": []
    },
    {
      "cell_type": "code",
      "source": [
        "import numpy as np\n",
        "max2 = np.sort(sim_jac)[-2]\n",
        "max_index2 = np.argsort(sim_jac)[-2]"
      ],
      "metadata": {
        "id": "U8AXhXAy5r7M"
      },
      "execution_count": null,
      "outputs": []
    },
    {
      "cell_type": "code",
      "source": [
        "max2"
      ],
      "metadata": {
        "id": "zPkbBziP6Ss6"
      },
      "execution_count": null,
      "outputs": []
    },
    {
      "cell_type": "code",
      "source": [
        "max_index2"
      ],
      "metadata": {
        "id": "ttVVngUo-0cN"
      },
      "execution_count": null,
      "outputs": []
    },
    {
      "cell_type": "code",
      "source": [
        "news=pd.read_csv('news.csv')"
      ],
      "metadata": {
        "id": "KwXmjnmh6Zjj"
      },
      "execution_count": null,
      "outputs": []
    },
    {
      "cell_type": "code",
      "source": [
        "news['question'][148]"
      ],
      "metadata": {
        "id": "3MMCw6WY9fpH"
      },
      "execution_count": null,
      "outputs": []
    },
    {
      "cell_type": "code",
      "source": [
        ""
      ],
      "metadata": {
        "id": "EatpVWDl-F15"
      },
      "execution_count": null,
      "outputs": []
    },
    {
      "cell_type": "code",
      "source": [
        "from math import sqrt, pow, exp\n",
        " \n",
        "def squared_sum(x):\n",
        "  \"\"\" return 3 rounded square rooted value \"\"\"\n",
        " \n",
        "  return round(sqrt(sum([a*a for a in x])),3)\n",
        " \n",
        "def euclidean_distance(x,y):\n",
        "  \"\"\" return euclidean distance between two lists \"\"\"\n",
        " \n",
        "  return 1-exp(sqrt(sum(pow(a-b,2) for a, b in zip(x, y))))"
      ],
      "metadata": {
        "id": "OHaNpX8N-Vkr"
      },
      "execution_count": null,
      "outputs": []
    },
    {
      "cell_type": "code",
      "source": [
        "embeddings = [nlp(sentence).vector for sentence in sentences]\n",
        "\n",
        "dis_sum=[]\n",
        "for i in range(len(corpus)):\n",
        "  distance = euclidean_distance(embeddings[0], embeddings[i])\n",
        "  dis_sum.append(distance)\n"
      ],
      "metadata": {
        "id": "4uh2ACqT_aAL"
      },
      "execution_count": null,
      "outputs": []
    },
    {
      "cell_type": "code",
      "source": [
        "sentences"
      ],
      "metadata": {
        "id": "kS7cCgi2_6Ox"
      },
      "execution_count": null,
      "outputs": []
    },
    {
      "cell_type": "code",
      "source": [
        ""
      ],
      "metadata": {
        "id": "tz-2AWxoAFRv"
      },
      "execution_count": null,
      "outputs": []
    }
  ],
  "metadata": {
    "colab": {
      "background_execution": "on",
      "collapsed_sections": [],
      "name": "CNN.ipynb",
      "provenance": []
    },
    "kernelspec": {
      "display_name": "Python 3",
      "name": "python3"
    },
    "language_info": {
      "name": "python"
    }
  },
  "nbformat": 4,
  "nbformat_minor": 0
}