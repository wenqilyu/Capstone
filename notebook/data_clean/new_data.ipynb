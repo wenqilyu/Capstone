{
  "nbformat": 4,
  "nbformat_minor": 0,
  "metadata": {
    "colab": {
      "name": "new_data.ipynb",
      "provenance": [],
      "machine_shape": "hm",
      "collapsed_sections": [],
      "authorship_tag": "ABX9TyNx4+3I2CARUyqh5GK427is",
      "include_colab_link": true
    },
    "kernelspec": {
      "name": "python3",
      "display_name": "Python 3"
    },
    "language_info": {
      "name": "python"
    }
  },
  "cells": [
    {
      "cell_type": "markdown",
      "metadata": {
        "id": "view-in-github",
        "colab_type": "text"
      },
      "source": [
        "<a href=\"https://colab.research.google.com/github/wenqilyu/Capstone/blob/main/new_data.ipynb\" target=\"_parent\"><img src=\"https://colab.research.google.com/assets/colab-badge.svg\" alt=\"Open In Colab\"/></a>"
      ]
    },
    {
      "cell_type": "code",
      "execution_count": null,
      "metadata": {
        "colab": {
          "base_uri": "https://localhost:8080/"
        },
        "id": "itn7jJoWa0Qf",
        "outputId": "5cac7890-2fce-4929-921a-e8403d4c3eda"
      },
      "outputs": [
        {
          "output_type": "stream",
          "name": "stdout",
          "text": [
            "Mounted at /content/gdrive\n",
            "/content/gdrive/MyDrive/Capstone\n"
          ]
        }
      ],
      "source": [
        "from google.colab import drive\n",
        "drive.mount('/content/gdrive')\n",
        "%cd /content/gdrive/MyDrive/Capstone"
      ]
    },
    {
      "cell_type": "code",
      "source": [
        "import pandas as pd"
      ],
      "metadata": {
        "id": "2a_579HfiwgM"
      },
      "execution_count": null,
      "outputs": []
    },
    {
      "cell_type": "code",
      "source": [
        "rumor_label=pd.read_csv('new_data/rumor_id.csv')\n",
        "real_nes=pd.read_csv('new_data/news_real.csv')\n",
        "fake_nes=pd.read_csv('new_data/news_fake.csv')\n",
        "rumor_label_tag=pd.read_csv('new_data/Dataset1.txt',sep='\\t')"
      ],
      "metadata": {
        "colab": {
          "base_uri": "https://localhost:8080/"
        },
        "id": "7OHIE7wuWUZe",
        "outputId": "2c3083d0-9951-4374-a6ae-582963117938"
      },
      "execution_count": null,
      "outputs": [
        {
          "output_type": "stream",
          "name": "stderr",
          "text": [
            "/usr/local/lib/python3.7/dist-packages/IPython/core/interactiveshell.py:2882: DtypeWarning: Columns (0) have mixed types.Specify dtype option on import or set low_memory=False.\n",
            "  exec(code_obj, self.user_global_ns, self.user_ns)\n"
          ]
        }
      ]
    },
    {
      "cell_type": "code",
      "source": [
        "rumor_label['tag']=rumor_label_tag['tweet_class']"
      ],
      "metadata": {
        "id": "QEh-s3QsaXgT"
      },
      "execution_count": null,
      "outputs": []
    },
    {
      "cell_type": "code",
      "source": [
        "rumor_label=rumor_label[rumor_label['tag']=='FALSE']"
      ],
      "metadata": {
        "id": "c_OTo0YdazVa"
      },
      "execution_count": null,
      "outputs": []
    },
    {
      "cell_type": "code",
      "source": [
        "#1\n",
        "len(rumor_label)"
      ],
      "metadata": {
        "id": "WlIsaNQbc6xe",
        "colab": {
          "base_uri": "https://localhost:8080/"
        },
        "outputId": "614e3cec-1f29-4856-9274-0f3e808f459d"
      },
      "execution_count": null,
      "outputs": [
        {
          "output_type": "execute_result",
          "data": {
            "text/plain": [
              "1292"
            ]
          },
          "metadata": {},
          "execution_count": 22
        }
      ]
    },
    {
      "cell_type": "code",
      "source": [
        "real_nes['tag']=\"True\""
      ],
      "metadata": {
        "id": "YX6Zft5YEeFK"
      },
      "execution_count": null,
      "outputs": []
    },
    {
      "cell_type": "code",
      "source": [
        "#2\n",
        "len(real_nes)"
      ],
      "metadata": {
        "colab": {
          "base_uri": "https://localhost:8080/"
        },
        "id": "FbFZx_OJEr6F",
        "outputId": "df2b7ed1-5ff6-4085-f19f-899745738c52"
      },
      "execution_count": null,
      "outputs": [
        {
          "output_type": "execute_result",
          "data": {
            "text/plain": [
              "19551"
            ]
          },
          "metadata": {},
          "execution_count": 23
        }
      ]
    },
    {
      "cell_type": "code",
      "source": [
        "fake_nes['tag']=\"False\""
      ],
      "metadata": {
        "id": "hQVCosxSGEfP"
      },
      "execution_count": null,
      "outputs": []
    },
    {
      "cell_type": "code",
      "source": [
        "#3\n",
        "len(fake_nes)"
      ],
      "metadata": {
        "colab": {
          "base_uri": "https://localhost:8080/"
        },
        "id": "DyfBqZi8GLbb",
        "outputId": "a83dd2a5-a6ad-4816-a7f3-9fd28566d9df"
      },
      "execution_count": null,
      "outputs": [
        {
          "output_type": "execute_result",
          "data": {
            "text/plain": [
              "6704"
            ]
          },
          "metadata": {},
          "execution_count": 24
        }
      ]
    },
    {
      "cell_type": "code",
      "source": [
        "real_claim=pd.read_csv('new_data/claim_real.csv')\n",
        "fake_claim=pd.read_csv('new_data/claim_fake.csv')"
      ],
      "metadata": {
        "id": "k1MCKtAVGOyB"
      },
      "execution_count": null,
      "outputs": []
    },
    {
      "cell_type": "code",
      "source": [
        "real_claim['tag']=\"True\"\n",
        "fake_claim['tag']=\"False\""
      ],
      "metadata": {
        "id": "46Onm6ZTGlfb"
      },
      "execution_count": null,
      "outputs": []
    },
    {
      "cell_type": "code",
      "source": [
        "#4\n",
        "len(real_claim)"
      ],
      "metadata": {
        "colab": {
          "base_uri": "https://localhost:8080/"
        },
        "id": "p3XkDt1UKkOj",
        "outputId": "c4c3a0ab-8c58-45f5-b00b-e347e25b6c45"
      },
      "execution_count": null,
      "outputs": [
        {
          "output_type": "execute_result",
          "data": {
            "text/plain": [
              "6973"
            ]
          },
          "metadata": {},
          "execution_count": 62
        }
      ]
    },
    {
      "cell_type": "code",
      "source": [
        "#5\n",
        "len(fake_claim)"
      ],
      "metadata": {
        "colab": {
          "base_uri": "https://localhost:8080/"
        },
        "id": "MmnT-yPVKoqw",
        "outputId": "3fac3875-084b-4ba2-d2fc-464203b1498a"
      },
      "execution_count": null,
      "outputs": [
        {
          "output_type": "execute_result",
          "data": {
            "text/plain": [
              "384"
            ]
          },
          "metadata": {},
          "execution_count": 63
        }
      ]
    },
    {
      "cell_type": "code",
      "source": [
        "vax_tag=pd.read_csv('new_data/VaxMisinfoData.csv')\n",
        "vax=pd.read_csv('new_data/vaxmis.csv')"
      ],
      "metadata": {
        "id": "66KdjM7GGpP0"
      },
      "execution_count": null,
      "outputs": []
    },
    {
      "cell_type": "code",
      "source": [
        "vax_join=vax.join(vax_tag.set_index('id'), on='id')"
      ],
      "metadata": {
        "id": "7bl6Gdp1G8fm"
      },
      "execution_count": null,
      "outputs": []
    },
    {
      "cell_type": "code",
      "source": [
        "vax_join.columns"
      ],
      "metadata": {
        "colab": {
          "base_uri": "https://localhost:8080/"
        },
        "id": "jLn6aA9ZH3oS",
        "outputId": "7e39e5ab-6830-47e9-e91a-69a1e1a4c66e"
      },
      "execution_count": null,
      "outputs": [
        {
          "output_type": "execute_result",
          "data": {
            "text/plain": [
              "Index(['coordinates', 'created_at', 'hashtags', 'media', 'urls',\n",
              "       'favorite_count', 'id', 'in_reply_to_screen_name',\n",
              "       'in_reply_to_status_id', 'in_reply_to_user_id', 'lang', 'place',\n",
              "       'possibly_sensitive', 'quote_id', 'retweet_count', 'retweet_id',\n",
              "       'retweet_screen_name', 'source', 'text', 'tweet_url', 'user_created_at',\n",
              "       'user_id', 'user_default_profile_image', 'user_description',\n",
              "       'user_favourites_count', 'user_followers_count', 'user_friends_count',\n",
              "       'user_listed_count', 'user_location', 'user_name', 'user_screen_name',\n",
              "       'user_statuses_count', 'user_time_zone', 'user_urls', 'user_verified',\n",
              "       'is_misinfo'],\n",
              "      dtype='object')"
            ]
          },
          "metadata": {},
          "execution_count": 55
        }
      ]
    },
    {
      "cell_type": "code",
      "source": [
        "vax_join=vax_join.rename(columns={'is_misinfo':'tag'})"
      ],
      "metadata": {
        "id": "1B9VwpnXH8NN"
      },
      "execution_count": null,
      "outputs": []
    },
    {
      "cell_type": "code",
      "source": [
        "vax_join.loc[vax_join['tag']==0,'tag'] = \"True\"\n",
        "vax_join.loc[vax_join['tag']==1,'tag'] = \"False\""
      ],
      "metadata": {
        "id": "a_7DSvObJoVB"
      },
      "execution_count": null,
      "outputs": []
    },
    {
      "cell_type": "code",
      "source": [
        "#6\n",
        "len(vax_join)"
      ],
      "metadata": {
        "colab": {
          "base_uri": "https://localhost:8080/"
        },
        "id": "W3No6tpQJMDH",
        "outputId": "df536283-bded-43bc-cf66-f6565e506fcf"
      },
      "execution_count": null,
      "outputs": [
        {
          "output_type": "execute_result",
          "data": {
            "text/plain": [
              "12839"
            ]
          },
          "metadata": {},
          "execution_count": 64
        }
      ]
    },
    {
      "cell_type": "code",
      "source": [
        "new_data=pd.concat([vax_join,fake_claim,real_claim,fake_nes,real_nes,rumor_label])"
      ],
      "metadata": {
        "id": "PlPO1RjqKsmm"
      },
      "execution_count": null,
      "outputs": []
    },
    {
      "cell_type": "code",
      "source": [
        "new_data.to_csv('tag_data')"
      ],
      "metadata": {
        "id": "3ED9Ct_2LCTX"
      },
      "execution_count": null,
      "outputs": []
    },
    {
      "cell_type": "code",
      "source": [
        ""
      ],
      "metadata": {
        "id": "r2pqW43kLS--"
      },
      "execution_count": null,
      "outputs": []
    }
  ]
}