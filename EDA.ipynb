{
  "cells": [
    {
      "cell_type": "markdown",
      "metadata": {
        "id": "view-in-github",
        "colab_type": "text"
      },
      "source": [
        "<a href=\"https://colab.research.google.com/github/wenqilyu/Capstone/blob/main/EDA.ipynb\" target=\"_parent\"><img src=\"https://colab.research.google.com/assets/colab-badge.svg\" alt=\"Open In Colab\"/></a>"
      ]
    },
    {
      "cell_type": "code",
      "execution_count": null,
      "metadata": {
        "colab": {
          "base_uri": "https://localhost:8080/"
        },
        "id": "8qLMgoJSZr8d",
        "outputId": "6b7c0870-74ab-4c3f-d57f-900976efc734"
      },
      "outputs": [
        {
          "output_type": "stream",
          "name": "stdout",
          "text": [
            "Drive already mounted at /content/gdrive; to attempt to forcibly remount, call drive.mount(\"/content/gdrive\", force_remount=True).\n",
            "/content/gdrive/MyDrive/Capstone\n",
            "Requirement already satisfied: jieba in /usr/local/lib/python3.7/dist-packages (0.42.1)\n",
            "Requirement already satisfied: wordcloud in /usr/local/lib/python3.7/dist-packages (1.5.0)\n",
            "Requirement already satisfied: numpy>=1.6.1 in /usr/local/lib/python3.7/dist-packages (from wordcloud) (1.19.5)\n",
            "Requirement already satisfied: pillow in /usr/local/lib/python3.7/dist-packages (from wordcloud) (7.1.2)\n"
          ]
        }
      ],
      "source": [
        "from google.colab import drive\n",
        "drive.mount('/content/gdrive')\n",
        "%cd /content/gdrive/MyDrive/Capstone\n",
        "\n",
        "import re\n",
        "import pandas as pd\n",
        "! pip install jieba\n",
        "! pip install wordcloud\n",
        "import matplotlib.pyplot as plt\n",
        "import jieba\n",
        "from wordcloud import WordCloud \n",
        "import collections "
      ]
    },
    {
      "cell_type": "code",
      "execution_count": null,
      "metadata": {
        "colab": {
          "base_uri": "https://localhost:8080/"
        },
        "id": "SJ1qfDnKbkc2",
        "outputId": "f5136169-a5c3-4bbc-e9e1-b836eb63037e"
      },
      "outputs": [
        {
          "output_type": "stream",
          "name": "stderr",
          "text": [
            "/usr/local/lib/python3.7/dist-packages/IPython/core/interactiveshell.py:2882: DtypeWarning: Columns (0,1,2,3,4,5,6,7,8,9,10,11,12,13,15,16,17,18,19,20,21,23,24,29,30,31,34,35,36) have mixed types.Specify dtype option on import or set low_memory=False.\n",
            "  exec(code_obj, self.user_global_ns, self.user_ns)\n"
          ]
        }
      ],
      "source": [
        "tweets = pd.read_csv('output1.csv')"
      ]
    },
    {
      "cell_type": "code",
      "source": [
        "lang = pd.read_csv('output1.csv')"
      ],
      "metadata": {
        "colab": {
          "base_uri": "https://localhost:8080/"
        },
        "id": "tHtOWVrjJGqM",
        "outputId": "e8e82958-72d1-419d-dfca-4c2f6d9ec31c"
      },
      "execution_count": null,
      "outputs": [
        {
          "output_type": "stream",
          "name": "stderr",
          "text": [
            "/usr/local/lib/python3.7/dist-packages/IPython/core/interactiveshell.py:2882: DtypeWarning: Columns (0,1,2,3,4,5,6,7,8,9,10,11,12,13,15,16,17,18,19,20,21,23,24,29,30,31,34,35,36) have mixed types.Specify dtype option on import or set low_memory=False.\n",
            "  exec(code_obj, self.user_global_ns, self.user_ns)\n"
          ]
        }
      ]
    },
    {
      "cell_type": "code",
      "source": [
        "tweets['language']=lang['Language']"
      ],
      "metadata": {
        "id": "sVwixTWAIhC8"
      },
      "execution_count": null,
      "outputs": []
    },
    {
      "cell_type": "code",
      "source": [
        "tweets=tweets[tweets['Language']=='en']"
      ],
      "metadata": {
        "id": "EfhTdCwnLB1N"
      },
      "execution_count": null,
      "outputs": []
    },
    {
      "cell_type": "code",
      "source": [
        "tweets=tweets[tweets['text'].dropna()]"
      ],
      "metadata": {
        "id": "eF8vNdWBJcGX"
      },
      "execution_count": null,
      "outputs": []
    },
    {
      "cell_type": "code",
      "execution_count": null,
      "metadata": {
        "colab": {
          "base_uri": "https://localhost:8080/"
        },
        "id": "4rU4F5AWcNad",
        "outputId": "cf415dd4-c06c-423e-e22c-b1fc7175eb20"
      },
      "outputs": [
        {
          "output_type": "stream",
          "name": "stderr",
          "text": [
            "/usr/local/lib/python3.7/dist-packages/IPython/core/interactiveshell.py:2882: DtypeWarning: Columns (0) have mixed types.Specify dtype option on import or set low_memory=False.\n",
            "  exec(code_obj, self.user_global_ns, self.user_ns)\n"
          ]
        }
      ],
      "source": [
        "tweets_before_clean=pd.read_csv('all_id_combined.csv')"
      ]
    },
    {
      "cell_type": "code",
      "execution_count": null,
      "metadata": {
        "colab": {
          "base_uri": "https://localhost:8080/",
          "height": 1000
        },
        "id": "39Tv6lDXb5fo",
        "outputId": "7a42c76e-87ec-4e1c-f213-7525f43b3e70"
      },
      "outputs": [
        {
          "output_type": "execute_result",
          "data": {
            "text/html": [
              "\n",
              "  <div id=\"df-bbe6cc5b-a26b-4d63-9b9a-eef6c6c03834\">\n",
              "    <div class=\"colab-df-container\">\n",
              "      <div>\n",
              "<style scoped>\n",
              "    .dataframe tbody tr th:only-of-type {\n",
              "        vertical-align: middle;\n",
              "    }\n",
              "\n",
              "    .dataframe tbody tr th {\n",
              "        vertical-align: top;\n",
              "    }\n",
              "\n",
              "    .dataframe thead th {\n",
              "        text-align: right;\n",
              "    }\n",
              "</style>\n",
              "<table border=\"1\" class=\"dataframe\">\n",
              "  <thead>\n",
              "    <tr style=\"text-align: right;\">\n",
              "      <th></th>\n",
              "      <th>Unnamed: 0</th>\n",
              "      <th>coordinates</th>\n",
              "      <th>created_at</th>\n",
              "      <th>hashtags</th>\n",
              "      <th>media</th>\n",
              "      <th>urls</th>\n",
              "      <th>favorite_count</th>\n",
              "      <th>id</th>\n",
              "      <th>in_reply_to_screen_name</th>\n",
              "      <th>in_reply_to_status_id</th>\n",
              "      <th>in_reply_to_user_id</th>\n",
              "      <th>lang</th>\n",
              "      <th>place</th>\n",
              "      <th>possibly_sensitive</th>\n",
              "      <th>quote_id</th>\n",
              "      <th>retweet_count</th>\n",
              "      <th>retweet_id</th>\n",
              "      <th>retweet_screen_name</th>\n",
              "      <th>source</th>\n",
              "      <th>text</th>\n",
              "      <th>tweet_url</th>\n",
              "      <th>user_created_at</th>\n",
              "      <th>user_id</th>\n",
              "      <th>user_default_profile_image</th>\n",
              "      <th>user_description</th>\n",
              "      <th>user_favourites_count</th>\n",
              "      <th>user_followers_count</th>\n",
              "      <th>user_friends_count</th>\n",
              "      <th>user_listed_count</th>\n",
              "      <th>user_location</th>\n",
              "      <th>user_name</th>\n",
              "      <th>user_screen_name</th>\n",
              "      <th>user_statuses_count</th>\n",
              "      <th>user_time_zone</th>\n",
              "      <th>user_urls</th>\n",
              "      <th>user_verified</th>\n",
              "      <th>language</th>\n",
              "    </tr>\n",
              "  </thead>\n",
              "  <tbody>\n",
              "    <tr>\n",
              "      <th>0</th>\n",
              "      <td>0</td>\n",
              "      <td>NaN</td>\n",
              "      <td>Tue Jul 14 14:28:11 +0000 2020</td>\n",
              "      <td>NaN</td>\n",
              "      <td>NaN</td>\n",
              "      <td>NaN</td>\n",
              "      <td>0</td>\n",
              "      <td>1283045634879234051</td>\n",
              "      <td>NaN</td>\n",
              "      <td>NaN</td>\n",
              "      <td>NaN</td>\n",
              "      <td>en</td>\n",
              "      <td>NaN</td>\n",
              "      <td>NaN</td>\n",
              "      <td>1.282771e+18</td>\n",
              "      <td>1</td>\n",
              "      <td>1283037819699634176.0</td>\n",
              "      <td>HellAnnBack</td>\n",
              "      <td>&lt;a href=\"http://twitter.com/download/android\" ...</td>\n",
              "      <td>mask nazis guy mayor tn spike covid case good ...</td>\n",
              "      <td>https://twitter.com/jellison_pat/status/128304...</td>\n",
              "      <td>Sun Jul 28 17:11:46 +0000 2019</td>\n",
              "      <td>1.155526e+18</td>\n",
              "      <td>False</td>\n",
              "      <td>Sense of humor, think Far Side. Thinks outside...</td>\n",
              "      <td>83756.0</td>\n",
              "      <td>784.0</td>\n",
              "      <td>823.0</td>\n",
              "      <td>0.0</td>\n",
              "      <td>NaN</td>\n",
              "      <td>Pat Jellison</td>\n",
              "      <td>jellison_pat</td>\n",
              "      <td>27989.0</td>\n",
              "      <td>NaN</td>\n",
              "      <td>NaN</td>\n",
              "      <td>False</td>\n",
              "      <td>en</td>\n",
              "    </tr>\n",
              "    <tr>\n",
              "      <th>1</th>\n",
              "      <td>1</td>\n",
              "      <td>NaN</td>\n",
              "      <td>Tue Jul 14 14:28:11 +0000 2020</td>\n",
              "      <td>NaN</td>\n",
              "      <td>NaN</td>\n",
              "      <td>NaN</td>\n",
              "      <td>0</td>\n",
              "      <td>1283045635235745794</td>\n",
              "      <td>NaN</td>\n",
              "      <td>NaN</td>\n",
              "      <td>NaN</td>\n",
              "      <td>en</td>\n",
              "      <td>NaN</td>\n",
              "      <td>NaN</td>\n",
              "      <td>1.282983e+18</td>\n",
              "      <td>111</td>\n",
              "      <td>1283042531740200960.0</td>\n",
              "      <td>RLHeinrichs</td>\n",
              "      <td>&lt;a href=\"http://twitter.com/download/iphone\" r...</td>\n",
              "      <td>uh guy orlando health answer question confirm ...</td>\n",
              "      <td>https://twitter.com/ladyoutlander72/status/128...</td>\n",
              "      <td>Sun Feb 25 21:22:14 +0000 2018</td>\n",
              "      <td>9.678724e+17</td>\n",
              "      <td>False</td>\n",
              "      <td>Constitutional Conservative, wife, mother, mem...</td>\n",
              "      <td>5555.0</td>\n",
              "      <td>5986.0</td>\n",
              "      <td>6104.0</td>\n",
              "      <td>1.0</td>\n",
              "      <td>Texas, USA</td>\n",
              "      <td>Kricket Dalais</td>\n",
              "      <td>ladyoutlander72</td>\n",
              "      <td>23356.0</td>\n",
              "      <td>NaN</td>\n",
              "      <td>NaN</td>\n",
              "      <td>False</td>\n",
              "      <td>en</td>\n",
              "    </tr>\n",
              "    <tr>\n",
              "      <th>2</th>\n",
              "      <td>2</td>\n",
              "      <td>NaN</td>\n",
              "      <td>Mon Jul 13 09:47:32 +0000 2020</td>\n",
              "      <td>COVID19</td>\n",
              "      <td>NaN</td>\n",
              "      <td>https://twitter.com/catalayahere/status/128241...</td>\n",
              "      <td>1</td>\n",
              "      <td>1282612619497676800</td>\n",
              "      <td>NaN</td>\n",
              "      <td>NaN</td>\n",
              "      <td>NaN</td>\n",
              "      <td>en</td>\n",
              "      <td>NaN</td>\n",
              "      <td>False</td>\n",
              "      <td>1.282418e+18</td>\n",
              "      <td>0</td>\n",
              "      <td>NaN</td>\n",
              "      <td>NaN</td>\n",
              "      <td>&lt;a href=\"http://twitter.com/download/android\" ...</td>\n",
              "      <td>eye opening thread    1 mortality</td>\n",
              "      <td>https://twitter.com/DrMphoMalatji/status/12826...</td>\n",
              "      <td>Mon Sep 20 22:33:46 +0000 2010</td>\n",
              "      <td>1.930771e+08</td>\n",
              "      <td>False</td>\n",
              "      <td>•Philosopher\\n•Indigenous Knowledge Librarian\\...</td>\n",
              "      <td>3590.0</td>\n",
              "      <td>4414.0</td>\n",
              "      <td>3609.0</td>\n",
              "      <td>1.0</td>\n",
              "      <td>Johannesburg</td>\n",
              "      <td>Dr Mpho Malatji</td>\n",
              "      <td>DrMphoMalatji</td>\n",
              "      <td>7099.0</td>\n",
              "      <td>NaN</td>\n",
              "      <td>NaN</td>\n",
              "      <td>False</td>\n",
              "      <td>en</td>\n",
              "    </tr>\n",
              "    <tr>\n",
              "      <th>3</th>\n",
              "      <td>3</td>\n",
              "      <td>NaN</td>\n",
              "      <td>Mon Jul 13 09:38:04 +0000 2020</td>\n",
              "      <td>NaN</td>\n",
              "      <td>NaN</td>\n",
              "      <td>NaN</td>\n",
              "      <td>0</td>\n",
              "      <td>1282610233714585600</td>\n",
              "      <td>NaN</td>\n",
              "      <td>NaN</td>\n",
              "      <td>NaN</td>\n",
              "      <td>en</td>\n",
              "      <td>NaN</td>\n",
              "      <td>NaN</td>\n",
              "      <td>NaN</td>\n",
              "      <td>99</td>\n",
              "      <td>1282582071408504832.0</td>\n",
              "      <td>ABC</td>\n",
              "      <td>&lt;a href=\"http://twitter.com/download/iphone\" r...</td>\n",
              "      <td>month global pandemic study show covid19 exace...</td>\n",
              "      <td>https://twitter.com/ksev4/status/1282610233714...</td>\n",
              "      <td>Fri Apr 01 22:05:36 +0000 2011</td>\n",
              "      <td>2.757350e+08</td>\n",
              "      <td>False</td>\n",
              "      <td>My heart wants to sigh like a chime that flies...</td>\n",
              "      <td>732909.0</td>\n",
              "      <td>1447.0</td>\n",
              "      <td>718.0</td>\n",
              "      <td>30.0</td>\n",
              "      <td>Wells, Maine</td>\n",
              "      <td>Katherine H Sevigney</td>\n",
              "      <td>ksev4</td>\n",
              "      <td>143442.0</td>\n",
              "      <td>NaN</td>\n",
              "      <td>http://KHSJourneyTo30.weebly.com</td>\n",
              "      <td>False</td>\n",
              "      <td>en</td>\n",
              "    </tr>\n",
              "    <tr>\n",
              "      <th>6</th>\n",
              "      <td>6</td>\n",
              "      <td>NaN</td>\n",
              "      <td>Tue Jul 14 14:25:46 +0000 2020</td>\n",
              "      <td>NaN</td>\n",
              "      <td>NaN</td>\n",
              "      <td>NaN</td>\n",
              "      <td>0</td>\n",
              "      <td>1283045026436657156</td>\n",
              "      <td>NaN</td>\n",
              "      <td>NaN</td>\n",
              "      <td>NaN</td>\n",
              "      <td>en</td>\n",
              "      <td>NaN</td>\n",
              "      <td>NaN</td>\n",
              "      <td>NaN</td>\n",
              "      <td>306</td>\n",
              "      <td>1283039051407384576.0</td>\n",
              "      <td>MarshallProj</td>\n",
              "      <td>&lt;a href=\"http://twitter.com/download/android\" ...</td>\n",
              "      <td>15yearold michigan incarcerate coronavirus pan...</td>\n",
              "      <td>https://twitter.com/sianlikeyarn/status/128304...</td>\n",
              "      <td>Tue Jul 12 12:03:43 +0000 2011</td>\n",
              "      <td>3.339881e+08</td>\n",
              "      <td>False</td>\n",
              "      <td>Cannabis copywriter. Other than that I'm going...</td>\n",
              "      <td>118324.0</td>\n",
              "      <td>7497.0</td>\n",
              "      <td>3243.0</td>\n",
              "      <td>98.0</td>\n",
              "      <td>South Africa</td>\n",
              "      <td>siândenfreude</td>\n",
              "      <td>sianlikeyarn</td>\n",
              "      <td>14818.0</td>\n",
              "      <td>NaN</td>\n",
              "      <td>NaN</td>\n",
              "      <td>False</td>\n",
              "      <td>en</td>\n",
              "    </tr>\n",
              "    <tr>\n",
              "      <th>...</th>\n",
              "      <td>...</td>\n",
              "      <td>...</td>\n",
              "      <td>...</td>\n",
              "      <td>...</td>\n",
              "      <td>...</td>\n",
              "      <td>...</td>\n",
              "      <td>...</td>\n",
              "      <td>...</td>\n",
              "      <td>...</td>\n",
              "      <td>...</td>\n",
              "      <td>...</td>\n",
              "      <td>...</td>\n",
              "      <td>...</td>\n",
              "      <td>...</td>\n",
              "      <td>...</td>\n",
              "      <td>...</td>\n",
              "      <td>...</td>\n",
              "      <td>...</td>\n",
              "      <td>...</td>\n",
              "      <td>...</td>\n",
              "      <td>...</td>\n",
              "      <td>...</td>\n",
              "      <td>...</td>\n",
              "      <td>...</td>\n",
              "      <td>...</td>\n",
              "      <td>...</td>\n",
              "      <td>...</td>\n",
              "      <td>...</td>\n",
              "      <td>...</td>\n",
              "      <td>...</td>\n",
              "      <td>...</td>\n",
              "      <td>...</td>\n",
              "      <td>...</td>\n",
              "      <td>...</td>\n",
              "      <td>...</td>\n",
              "      <td>...</td>\n",
              "      <td>...</td>\n",
              "    </tr>\n",
              "    <tr>\n",
              "      <th>918040</th>\n",
              "      <td>581501</td>\n",
              "      <td>NaN</td>\n",
              "      <td>Thu Mar 04 01:47:17 +0000 2021</td>\n",
              "      <td>NaN</td>\n",
              "      <td>NaN</td>\n",
              "      <td>NaN</td>\n",
              "      <td>0</td>\n",
              "      <td>1367290520305819650</td>\n",
              "      <td>NaN</td>\n",
              "      <td>NaN</td>\n",
              "      <td>NaN</td>\n",
              "      <td>en</td>\n",
              "      <td>NaN</td>\n",
              "      <td>NaN</td>\n",
              "      <td>1.367243e+18</td>\n",
              "      <td>4880</td>\n",
              "      <td>1367265900798349312.0</td>\n",
              "      <td>JulianCastro</td>\n",
              "      <td>&lt;a href=\"http://twitter.com/download/iphone\" r...</td>\n",
              "      <td>total lie asylum seeker test enter \\n\\n worrie...</td>\n",
              "      <td>https://twitter.com/evahagendazs/status/136729...</td>\n",
              "      <td>Tue Dec 09 01:24:32 +0000 2014</td>\n",
              "      <td>2.911964e+09</td>\n",
              "      <td>False</td>\n",
              "      <td>I ❤️ the ocean, dancing, animals especially Ca...</td>\n",
              "      <td>80917.0</td>\n",
              "      <td>2118.0</td>\n",
              "      <td>1903.0</td>\n",
              "      <td>23.0</td>\n",
              "      <td>NaN</td>\n",
              "      <td>Eva Michelle</td>\n",
              "      <td>evahagendazs</td>\n",
              "      <td>66648.0</td>\n",
              "      <td>NaN</td>\n",
              "      <td>NaN</td>\n",
              "      <td>False</td>\n",
              "      <td>en</td>\n",
              "    </tr>\n",
              "    <tr>\n",
              "      <th>918042</th>\n",
              "      <td>581503</td>\n",
              "      <td>NaN</td>\n",
              "      <td>Thu Mar 04 01:40:23 +0000 2021</td>\n",
              "      <td>NaN</td>\n",
              "      <td>NaN</td>\n",
              "      <td>NaN</td>\n",
              "      <td>0</td>\n",
              "      <td>1367288782026899458</td>\n",
              "      <td>NaN</td>\n",
              "      <td>NaN</td>\n",
              "      <td>NaN</td>\n",
              "      <td>pt</td>\n",
              "      <td>NaN</td>\n",
              "      <td>NaN</td>\n",
              "      <td>NaN</td>\n",
              "      <td>17</td>\n",
              "      <td>1367288113723244288.0</td>\n",
              "      <td>marcobellojr</td>\n",
              "      <td>&lt;a href=\"https://mobile.twitter.com\" rel=\"nofo...</td>\n",
              "      <td>lockdown é não permitir que você saia de casa ...</td>\n",
              "      <td>https://twitter.com/afastademim/status/1367288...</td>\n",
              "      <td>Mon Sep 17 16:33:23 +0000 2018</td>\n",
              "      <td>1.041727e+18</td>\n",
              "      <td>False</td>\n",
              "      <td>Pai da Sol. Corintiano. Pacers.</td>\n",
              "      <td>16481.0</td>\n",
              "      <td>44.0</td>\n",
              "      <td>512.0</td>\n",
              "      <td>0.0</td>\n",
              "      <td>NaN</td>\n",
              "      <td>Henrique</td>\n",
              "      <td>afastademim</td>\n",
              "      <td>2981.0</td>\n",
              "      <td>NaN</td>\n",
              "      <td>NaN</td>\n",
              "      <td>False</td>\n",
              "      <td>en</td>\n",
              "    </tr>\n",
              "    <tr>\n",
              "      <th>918043</th>\n",
              "      <td>581504</td>\n",
              "      <td>NaN</td>\n",
              "      <td>Thu Mar 04 01:26:21 +0000 2021</td>\n",
              "      <td>NaN</td>\n",
              "      <td>NaN</td>\n",
              "      <td>NaN</td>\n",
              "      <td>0</td>\n",
              "      <td>1367285249659518979</td>\n",
              "      <td>NaN</td>\n",
              "      <td>NaN</td>\n",
              "      <td>NaN</td>\n",
              "      <td>en</td>\n",
              "      <td>NaN</td>\n",
              "      <td>NaN</td>\n",
              "      <td>NaN</td>\n",
              "      <td>1685</td>\n",
              "      <td>1367172969739468800.0</td>\n",
              "      <td>chuckwoolery</td>\n",
              "      <td>&lt;a href=\"http://twitter.com/download/iphone\" r...</td>\n",
              "      <td>illegal come country test positive covid send ...</td>\n",
              "      <td>https://twitter.com/jeanjessall1/status/136728...</td>\n",
              "      <td>Thu Sep 12 01:30:23 +0000 2019</td>\n",
              "      <td>1.171959e+18</td>\n",
              "      <td>False</td>\n",
              "      <td>NaN</td>\n",
              "      <td>49346.0</td>\n",
              "      <td>134.0</td>\n",
              "      <td>151.0</td>\n",
              "      <td>0.0</td>\n",
              "      <td>NaN</td>\n",
              "      <td>jeanjessall</td>\n",
              "      <td>jeanjessall1</td>\n",
              "      <td>11516.0</td>\n",
              "      <td>NaN</td>\n",
              "      <td>NaN</td>\n",
              "      <td>False</td>\n",
              "      <td>en</td>\n",
              "    </tr>\n",
              "    <tr>\n",
              "      <th>918044</th>\n",
              "      <td>581505</td>\n",
              "      <td>NaN</td>\n",
              "      <td>Thu Mar 04 01:55:38 +0000 2021</td>\n",
              "      <td>NaN</td>\n",
              "      <td>NaN</td>\n",
              "      <td>NaN</td>\n",
              "      <td>0</td>\n",
              "      <td>1367292619001270274</td>\n",
              "      <td>NaN</td>\n",
              "      <td>NaN</td>\n",
              "      <td>NaN</td>\n",
              "      <td>en</td>\n",
              "      <td>NaN</td>\n",
              "      <td>NaN</td>\n",
              "      <td>NaN</td>\n",
              "      <td>2064</td>\n",
              "      <td>1367239149346983936.0</td>\n",
              "      <td>charliekirk11</td>\n",
              "      <td>&lt;a href=\"https://mobile.twitter.com\" rel=\"nofo...</td>\n",
              "      <td>liberal logic \\n\\n china virus dangerous ameri...</td>\n",
              "      <td>https://twitter.com/pauldavis1958/status/13672...</td>\n",
              "      <td>Sat Jun 13 15:47:20 +0000 2015</td>\n",
              "      <td>3.323164e+09</td>\n",
              "      <td>False</td>\n",
              "      <td>For the latest central Illinois racing news an...</td>\n",
              "      <td>3745.0</td>\n",
              "      <td>1206.0</td>\n",
              "      <td>3866.0</td>\n",
              "      <td>10.0</td>\n",
              "      <td>Normal, IL</td>\n",
              "      <td>paul davis</td>\n",
              "      <td>pauldavis1958</td>\n",
              "      <td>23911.0</td>\n",
              "      <td>NaN</td>\n",
              "      <td>http://facebook.com/paul.davis.7773</td>\n",
              "      <td>False</td>\n",
              "      <td>en</td>\n",
              "    </tr>\n",
              "    <tr>\n",
              "      <th>918045</th>\n",
              "      <td>581506</td>\n",
              "      <td>NaN</td>\n",
              "      <td>Wed Mar 03 08:11:08 +0000 2021</td>\n",
              "      <td>NaN</td>\n",
              "      <td>NaN</td>\n",
              "      <td>NaN</td>\n",
              "      <td>2</td>\n",
              "      <td>1367024731342458884</td>\n",
              "      <td>katiity</td>\n",
              "      <td>1366895814778486784.0</td>\n",
              "      <td>81485354.0</td>\n",
              "      <td>es</td>\n",
              "      <td>NaN</td>\n",
              "      <td>NaN</td>\n",
              "      <td>NaN</td>\n",
              "      <td>0</td>\n",
              "      <td>NaN</td>\n",
              "      <td>NaN</td>\n",
              "      <td>&lt;a href=\"http://twitter.com/download/iphone\" r...</td>\n",
              "      <td>haber culpa claro que la tienen son univers...</td>\n",
              "      <td>https://twitter.com/Edgar23mm/status/136702473...</td>\n",
              "      <td>Sun Jul 24 21:08:09 +0000 2011</td>\n",
              "      <td>3.417209e+08</td>\n",
              "      <td>False</td>\n",
              "      <td>NaN</td>\n",
              "      <td>893.0</td>\n",
              "      <td>3.0</td>\n",
              "      <td>214.0</td>\n",
              "      <td>0.0</td>\n",
              "      <td>NaN</td>\n",
              "      <td>Edgar Diaz</td>\n",
              "      <td>Edgar23mm</td>\n",
              "      <td>384.0</td>\n",
              "      <td>NaN</td>\n",
              "      <td>NaN</td>\n",
              "      <td>False</td>\n",
              "      <td>en</td>\n",
              "    </tr>\n",
              "  </tbody>\n",
              "</table>\n",
              "<p>413373 rows × 37 columns</p>\n",
              "</div>\n",
              "      <button class=\"colab-df-convert\" onclick=\"convertToInteractive('df-bbe6cc5b-a26b-4d63-9b9a-eef6c6c03834')\"\n",
              "              title=\"Convert this dataframe to an interactive table.\"\n",
              "              style=\"display:none;\">\n",
              "        \n",
              "  <svg xmlns=\"http://www.w3.org/2000/svg\" height=\"24px\"viewBox=\"0 0 24 24\"\n",
              "       width=\"24px\">\n",
              "    <path d=\"M0 0h24v24H0V0z\" fill=\"none\"/>\n",
              "    <path d=\"M18.56 5.44l.94 2.06.94-2.06 2.06-.94-2.06-.94-.94-2.06-.94 2.06-2.06.94zm-11 1L8.5 8.5l.94-2.06 2.06-.94-2.06-.94L8.5 2.5l-.94 2.06-2.06.94zm10 10l.94 2.06.94-2.06 2.06-.94-2.06-.94-.94-2.06-.94 2.06-2.06.94z\"/><path d=\"M17.41 7.96l-1.37-1.37c-.4-.4-.92-.59-1.43-.59-.52 0-1.04.2-1.43.59L10.3 9.45l-7.72 7.72c-.78.78-.78 2.05 0 2.83L4 21.41c.39.39.9.59 1.41.59.51 0 1.02-.2 1.41-.59l7.78-7.78 2.81-2.81c.8-.78.8-2.07 0-2.86zM5.41 20L4 18.59l7.72-7.72 1.47 1.35L5.41 20z\"/>\n",
              "  </svg>\n",
              "      </button>\n",
              "      \n",
              "  <style>\n",
              "    .colab-df-container {\n",
              "      display:flex;\n",
              "      flex-wrap:wrap;\n",
              "      gap: 12px;\n",
              "    }\n",
              "\n",
              "    .colab-df-convert {\n",
              "      background-color: #E8F0FE;\n",
              "      border: none;\n",
              "      border-radius: 50%;\n",
              "      cursor: pointer;\n",
              "      display: none;\n",
              "      fill: #1967D2;\n",
              "      height: 32px;\n",
              "      padding: 0 0 0 0;\n",
              "      width: 32px;\n",
              "    }\n",
              "\n",
              "    .colab-df-convert:hover {\n",
              "      background-color: #E2EBFA;\n",
              "      box-shadow: 0px 1px 2px rgba(60, 64, 67, 0.3), 0px 1px 3px 1px rgba(60, 64, 67, 0.15);\n",
              "      fill: #174EA6;\n",
              "    }\n",
              "\n",
              "    [theme=dark] .colab-df-convert {\n",
              "      background-color: #3B4455;\n",
              "      fill: #D2E3FC;\n",
              "    }\n",
              "\n",
              "    [theme=dark] .colab-df-convert:hover {\n",
              "      background-color: #434B5C;\n",
              "      box-shadow: 0px 1px 3px 1px rgba(0, 0, 0, 0.15);\n",
              "      filter: drop-shadow(0px 1px 2px rgba(0, 0, 0, 0.3));\n",
              "      fill: #FFFFFF;\n",
              "    }\n",
              "  </style>\n",
              "\n",
              "      <script>\n",
              "        const buttonEl =\n",
              "          document.querySelector('#df-bbe6cc5b-a26b-4d63-9b9a-eef6c6c03834 button.colab-df-convert');\n",
              "        buttonEl.style.display =\n",
              "          google.colab.kernel.accessAllowed ? 'block' : 'none';\n",
              "\n",
              "        async function convertToInteractive(key) {\n",
              "          const element = document.querySelector('#df-bbe6cc5b-a26b-4d63-9b9a-eef6c6c03834');\n",
              "          const dataTable =\n",
              "            await google.colab.kernel.invokeFunction('convertToInteractive',\n",
              "                                                     [key], {});\n",
              "          if (!dataTable) return;\n",
              "\n",
              "          const docLinkHtml = 'Like what you see? Visit the ' +\n",
              "            '<a target=\"_blank\" href=https://colab.research.google.com/notebooks/data_table.ipynb>data table notebook</a>'\n",
              "            + ' to learn more about interactive tables.';\n",
              "          element.innerHTML = '';\n",
              "          dataTable['output_type'] = 'display_data';\n",
              "          await google.colab.output.renderOutput(dataTable, element);\n",
              "          const docLink = document.createElement('div');\n",
              "          docLink.innerHTML = docLinkHtml;\n",
              "          element.appendChild(docLink);\n",
              "        }\n",
              "      </script>\n",
              "    </div>\n",
              "  </div>\n",
              "  "
            ],
            "text/plain": [
              "       Unnamed: 0 coordinates  ... user_verified language\n",
              "0               0         NaN  ...         False       en\n",
              "1               1         NaN  ...         False       en\n",
              "2               2         NaN  ...         False       en\n",
              "3               3         NaN  ...         False       en\n",
              "6               6         NaN  ...         False       en\n",
              "...           ...         ...  ...           ...      ...\n",
              "918040     581501         NaN  ...         False       en\n",
              "918042     581503         NaN  ...         False       en\n",
              "918043     581504         NaN  ...         False       en\n",
              "918044     581505         NaN  ...         False       en\n",
              "918045     581506         NaN  ...         False       en\n",
              "\n",
              "[413373 rows x 37 columns]"
            ]
          },
          "metadata": {},
          "execution_count": 17
        }
      ],
      "source": [
        "tweets"
      ]
    },
    {
      "cell_type": "code",
      "source": [
        "tweets.columns.values"
      ],
      "metadata": {
        "colab": {
          "base_uri": "https://localhost:8080/"
        },
        "id": "S6Tp1kXWSHlx",
        "outputId": "a88bd1de-9476-45cd-f8ce-53fe27b8c3e5"
      },
      "execution_count": null,
      "outputs": [
        {
          "output_type": "execute_result",
          "data": {
            "text/plain": [
              "array(['Unnamed: 0', 'coordinates', 'created_at', 'hashtags', 'media',\n",
              "       'urls', 'favorite_count', 'id', 'in_reply_to_screen_name',\n",
              "       'in_reply_to_status_id', 'in_reply_to_user_id', 'lang', 'place',\n",
              "       'possibly_sensitive', 'quote_id', 'retweet_count', 'retweet_id',\n",
              "       'retweet_screen_name', 'source', 'text', 'tweet_url',\n",
              "       'user_created_at', 'user_id', 'user_default_profile_image',\n",
              "       'user_description', 'user_favourites_count',\n",
              "       'user_followers_count', 'user_friends_count', 'user_listed_count',\n",
              "       'user_location', 'user_name', 'user_screen_name',\n",
              "       'user_statuses_count', 'user_time_zone', 'user_urls',\n",
              "       'user_verified', 'language'], dtype=object)"
            ]
          },
          "metadata": {},
          "execution_count": 9
        }
      ]
    },
    {
      "cell_type": "markdown",
      "metadata": {
        "id": "PXY4vf1igK4w"
      },
      "source": [
        "## Statistics for the length of tweets"
      ]
    },
    {
      "cell_type": "code",
      "execution_count": null,
      "metadata": {
        "colab": {
          "base_uri": "https://localhost:8080/",
          "height": 282
        },
        "id": "zDWkiBUOcDO3",
        "outputId": "6752a225-7c4e-4a21-d058-f63632d0fb53"
      },
      "outputs": [
        {
          "output_type": "execute_result",
          "data": {
            "text/plain": [
              "<matplotlib.axes._subplots.AxesSubplot at 0x7fb73ab85a50>"
            ]
          },
          "metadata": {},
          "execution_count": 10
        },
        {
          "output_type": "display_data",
          "data": {
            "image/png": "[encoded data removed]",
            "text/plain": [
              "<Figure size 432x288 with 1 Axes>"
            ]
          },
          "metadata": {
            "needs_background": "light"
          }
        }
      ],
      "source": [
        "# the length of tweets before deleting the stop words\n",
        "tweets_before_clean['text'].str.len().hist(bins=[0,50,100,150,200,250,300,350,400])"
      ]
    },
    {
      "cell_type": "code",
      "execution_count": null,
      "metadata": {
        "colab": {
          "base_uri": "https://localhost:8080/",
          "height": 282
        },
        "id": "o3R9gn06ch68",
        "outputId": "7e209b01-06f4-4307-8616-b13f83580887"
      },
      "outputs": [
        {
          "output_type": "execute_result",
          "data": {
            "text/plain": [
              "<matplotlib.axes._subplots.AxesSubplot at 0x7fb73aaf05d0>"
            ]
          },
          "metadata": {},
          "execution_count": 11
        },
        {
          "output_type": "display_data",
          "data": {
            "image/png": "[encoded data removed]",
            "text/plain": [
              "<Figure size 432x288 with 1 Axes>"
            ]
          },
          "metadata": {
            "needs_background": "light"
          }
        }
      ],
      "source": [
        "# the length of tweets after deleting the stop words\n",
        "tweets['text'].str.len().hist(bins=[0,50,100,150,200,250,300,350,400])"
      ]
    },
    {
      "cell_type": "code",
      "execution_count": null,
      "metadata": {
        "id": "H2c2m_a2daF_",
        "colab": {
          "base_uri": "https://localhost:8080/",
          "height": 282
        },
        "outputId": "45a3d4d3-dd17-4a31-cc29-4834c530432a"
      },
      "outputs": [
        {
          "output_type": "execute_result",
          "data": {
            "text/plain": [
              "<matplotlib.axes._subplots.AxesSubplot at 0x7fb73a664e90>"
            ]
          },
          "metadata": {},
          "execution_count": 12
        },
        {
          "output_type": "display_data",
          "data": {
            "image/png": "[encoded data removed]",
            "text/plain": [
              "<Figure size 432x288 with 1 Axes>"
            ]
          },
          "metadata": {
            "needs_background": "light"
          }
        }
      ],
      "source": [
        "tweets['user_friends_count'].hist(bins=[0,100,200,300,400,500,600,700,800,900,1000,1100,1200,1300,1400,1500,1600,1700,1800,1900,2000])"
      ]
    },
    {
      "cell_type": "markdown",
      "metadata": {
        "id": "I8jqRrjMgOWi"
      },
      "source": [
        "## Frequency of words"
      ]
    },
    {
      "cell_type": "code",
      "execution_count": null,
      "metadata": {
        "id": "GDhgFpcagTST"
      },
      "outputs": [],
      "source": [
        "# count the words\n",
        "words_list=str(tweets['text'].tolist()).split()\n",
        "word_counts = collections.Counter(words_list)"
      ]
    },
    {
      "cell_type": "code",
      "execution_count": null,
      "metadata": {
        "colab": {
          "base_uri": "https://localhost:8080/"
        },
        "id": "yHBl7EfUhaiG",
        "outputId": "d6f80d1a-3649-4252-c59b-09f860708fef"
      },
      "outputs": [
        {
          "output_type": "execute_result",
          "data": {
            "text/plain": [
              "18525"
            ]
          },
          "metadata": {},
          "execution_count": 32
        }
      ],
      "source": [
        "word_counts['health']"
      ]
    },
    {
      "cell_type": "code",
      "execution_count": null,
      "metadata": {
        "id": "_zEYoTiRhvv1",
        "colab": {
          "base_uri": "https://localhost:8080/",
          "height": 198
        },
        "outputId": "382bf1cd-6d43-48ee-d204-17c7dd8f3b9a"
      },
      "outputs": [
        {
          "output_type": "display_data",
          "data": {
            "image/png": "[encoded data removed]",
            "text/plain": [
              "<Figure size 432x288 with 1 Axes>"
            ]
          },
          "metadata": {
            "needs_background": "light"
          }
        }
      ],
      "source": [
        "word_char=WordCloud()\n",
        "word_plot=word_char.fit_words(word_counts)\n",
        "plt.imshow(word_plot)\n",
        "plt.axis(\"off\")\n",
        "plt.show()"
      ]
    },
    {
      "cell_type": "code",
      "execution_count": null,
      "metadata": {
        "id": "5OgU0ojIkM9k"
      },
      "outputs": [],
      "source": [
        "dict(sorted(word_counts.items(), key=lambda x: x[0]))"
      ]
    },
    {
      "cell_type": "code",
      "source": [
        ""
      ],
      "metadata": {
        "id": "lhaFfcDiiFKR"
      },
      "execution_count": null,
      "outputs": []
    }
  ],
  "metadata": {
    "colab": {
      "name": "EDA.ipynb",
      "provenance": [],
      "collapsed_sections": [],
      "authorship_tag": "ABX9TyNU0XZ9YImFKPiClLGLycOg",
      "include_colab_link": true
    },
    "kernelspec": {
      "display_name": "Python 3",
      "name": "python3"
    },
    "language_info": {
      "name": "python"
    }
  },
  "nbformat": 4,
  "nbformat_minor": 0
}