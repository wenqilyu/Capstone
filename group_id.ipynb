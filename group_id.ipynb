{
 "cells": [
  {
   "cell_type": "code",
   "execution_count": 1,
   "id": "412587b1",
   "metadata": {},
   "outputs": [],
   "source": [
    "import random\n",
    "import time\n",
    "import os\n",
    "import pandas as pd\n",
    "import re"
   ]
  },
  {
   "cell_type": "markdown",
   "id": "6b85f9ee",
   "metadata": {},
   "source": [
    "# Ramdom Choose IDs"
   ]
  },
  {
   "cell_type": "code",
   "execution_count": 84,
   "id": "94f8358c",
   "metadata": {},
   "outputs": [],
   "source": [
    "date_list=['2020-01','2020-02','2020-03','2020-04','2020-05',\n",
    "           '2020-06','2020-07','2020-08','2020-09',\n",
    "           '2020-10','2020-11','2020-12',\n",
    "           '2021-01','2021-02','2021-03','2021-04',\n",
    "           '2021-05','2021-06','2021-07','2021-08',\n",
    "           '2021-09','2021-10','2021-11','2021-12',\n",
    "           '2022-01']"
   ]
  },
  {
   "cell_type": "code",
   "execution_count": 85,
   "id": "7ff44f37",
   "metadata": {},
   "outputs": [],
   "source": [
    "def suffle_file(k,date):\n",
    "    pathDir = os.listdir('/Users/wenqi/Desktop/capstone/COVID-19-TweetIDs/'+date)\n",
    "    fileOutOpen = open('/Users/wenqi/Desktop/capstone/COVID-19-TweetIDs/allgroup/'+date+'all.txt',\"w\")\n",
    "    for f in pathDir:\n",
    "        if f.endswith('.txt'):\n",
    "            file_path = '/Users/wenqi/Desktop/capstone/COVID-19-TweetIDs/' + date + '/' + f\n",
    "            file = open(file_path,\"r\")\n",
    "            nums = file.readlines()\n",
    "            random.shuffle(nums)\n",
    "            if len(nums)>=k:\n",
    "                for i in range(0,k):\n",
    "                    fileOutOpen.writelines(nums[i])\n",
    "            else:\n",
    "                for i in range(0,len(nums)):\n",
    "                    fileOutOpen.writelines(nums[i])\n"
   ]
  },
  {
   "cell_type": "code",
   "execution_count": 86,
   "id": "afc62b6f",
   "metadata": {},
   "outputs": [],
   "source": [
    "for d in date_list:\n",
    "    suffle_file(k=50,date=d)"
   ]
  },
  {
   "cell_type": "code",
   "execution_count": 67,
   "id": "7fe46167",
   "metadata": {},
   "outputs": [],
   "source": [
    "all_2020_01=pd.read_csv('/Users/wenqi/Desktop/capstone/COVID-19-TweetIDs/2020-01/all.txt')"
   ]
  },
  {
   "cell_type": "code",
   "execution_count": 81,
   "id": "69935228",
   "metadata": {},
   "outputs": [],
   "source": [
    "all_2020_02=pd.read_csv('/Users/wenqi/Desktop/capstone/COVID-19-TweetIDs/2020-02/all.txt')"
   ]
  },
  {
   "cell_type": "code",
   "execution_count": 82,
   "id": "fd0278aa",
   "metadata": {},
   "outputs": [
    {
     "data": {
      "text/html": [
       "<div>\n",
       "<style scoped>\n",
       "    .dataframe tbody tr th:only-of-type {\n",
       "        vertical-align: middle;\n",
       "    }\n",
       "\n",
       "    .dataframe tbody tr th {\n",
       "        vertical-align: top;\n",
       "    }\n",
       "\n",
       "    .dataframe thead th {\n",
       "        text-align: right;\n",
       "    }\n",
       "</style>\n",
       "<table border=\"1\" class=\"dataframe\">\n",
       "  <thead>\n",
       "    <tr style=\"text-align: right;\">\n",
       "      <th></th>\n",
       "      <th>1227277308563742720</th>\n",
       "    </tr>\n",
       "  </thead>\n",
       "  <tbody>\n",
       "    <tr>\n",
       "      <th>0</th>\n",
       "      <td>1227276782534967296</td>\n",
       "    </tr>\n",
       "    <tr>\n",
       "      <th>1</th>\n",
       "      <td>1227288514703876096</td>\n",
       "    </tr>\n",
       "    <tr>\n",
       "      <th>2</th>\n",
       "      <td>1227290724716048384</td>\n",
       "    </tr>\n",
       "    <tr>\n",
       "      <th>3</th>\n",
       "      <td>1227277518253654016</td>\n",
       "    </tr>\n",
       "    <tr>\n",
       "      <th>4</th>\n",
       "      <td>1227277510444044289</td>\n",
       "    </tr>\n",
       "    <tr>\n",
       "      <th>...</th>\n",
       "      <td>...</td>\n",
       "    </tr>\n",
       "    <tr>\n",
       "      <th>32844</th>\n",
       "      <td>1228951097064247296</td>\n",
       "    </tr>\n",
       "    <tr>\n",
       "      <th>32845</th>\n",
       "      <td>1228946064851394562</td>\n",
       "    </tr>\n",
       "    <tr>\n",
       "      <th>32846</th>\n",
       "      <td>1228952087540596736</td>\n",
       "    </tr>\n",
       "    <tr>\n",
       "      <th>32847</th>\n",
       "      <td>1228948404690046976</td>\n",
       "    </tr>\n",
       "    <tr>\n",
       "      <th>32848</th>\n",
       "      <td>1228949469787545600</td>\n",
       "    </tr>\n",
       "  </tbody>\n",
       "</table>\n",
       "<p>32849 rows × 1 columns</p>\n",
       "</div>"
      ],
      "text/plain": [
       "       1227277308563742720\n",
       "0      1227276782534967296\n",
       "1      1227288514703876096\n",
       "2      1227290724716048384\n",
       "3      1227277518253654016\n",
       "4      1227277510444044289\n",
       "...                    ...\n",
       "32844  1228951097064247296\n",
       "32845  1228946064851394562\n",
       "32846  1228952087540596736\n",
       "32847  1228948404690046976\n",
       "32848  1228949469787545600\n",
       "\n",
       "[32849 rows x 1 columns]"
      ]
     },
     "execution_count": 82,
     "metadata": {},
     "output_type": "execute_result"
    }
   ],
   "source": [
    "all_2020_02"
   ]
  },
  {
   "cell_type": "markdown",
   "id": "6245129c",
   "metadata": {},
   "source": [
    "# Combine Files"
   ]
  },
  {
   "cell_type": "code",
   "execution_count": 2,
   "id": "3da4b433",
   "metadata": {},
   "outputs": [],
   "source": [
    "folder_path='/Users/wenqi/Desktop/capstone/COVID-19-TweetIDs/all_id/'\n",
    "file_all=os.listdir(folder_path)\n",
    "new_file=open('/Users/wenqi/Desktop/capstone/COVID-19-TweetIDs/all_id.txt','w')"
   ]
  },
  {
   "cell_type": "code",
   "execution_count": 3,
   "id": "55a35ce5",
   "metadata": {},
   "outputs": [
    {
     "name": "stdout",
     "output_type": "stream",
     "text": [
      "/Users/wenqi/Desktop/capstone/COVID-19-TweetIDs/all_id/all的副本6.txt\n",
      "/Users/wenqi/Desktop/capstone/COVID-19-TweetIDs/all_id/all的副本7.txt\n",
      "/Users/wenqi/Desktop/capstone/COVID-19-TweetIDs/all_id/all.txt\n",
      "/Users/wenqi/Desktop/capstone/COVID-19-TweetIDs/all_id/all的副本.txt\n",
      "/Users/wenqi/Desktop/capstone/COVID-19-TweetIDs/all_id/all的副本5.txt\n",
      "/Users/wenqi/Desktop/capstone/COVID-19-TweetIDs/all_id/all的副本4.txt\n",
      "/Users/wenqi/Desktop/capstone/COVID-19-TweetIDs/all_id/all的副本4.txt\n",
      "/Users/wenqi/Desktop/capstone/COVID-19-TweetIDs/all_id/all的副本3.txt\n",
      "/Users/wenqi/Desktop/capstone/COVID-19-TweetIDs/all_id/all的副本2.txt\n",
      "/Users/wenqi/Desktop/capstone/COVID-19-TweetIDs/all_id/all的副本22.txt\n",
      "/Users/wenqi/Desktop/capstone/COVID-19-TweetIDs/all_id/all的副本23.txt\n",
      "/Users/wenqi/Desktop/capstone/COVID-19-TweetIDs/all_id/all的副本21.txt\n",
      "/Users/wenqi/Desktop/capstone/COVID-19-TweetIDs/all_id/all的副本20.txt\n",
      "/Users/wenqi/Desktop/capstone/COVID-19-TweetIDs/all_id/all的副本18.txt\n",
      "/Users/wenqi/Desktop/capstone/COVID-19-TweetIDs/all_id/all的副本24.txt\n",
      "/Users/wenqi/Desktop/capstone/COVID-19-TweetIDs/all_id/all的副本19.txt\n",
      "/Users/wenqi/Desktop/capstone/COVID-19-TweetIDs/all_id/all的副本17.txt\n",
      "/Users/wenqi/Desktop/capstone/COVID-19-TweetIDs/all_id/all的副本16.txt\n",
      "/Users/wenqi/Desktop/capstone/COVID-19-TweetIDs/all_id/all的副本14.txt\n",
      "/Users/wenqi/Desktop/capstone/COVID-19-TweetIDs/all_id/all的副本15.txt\n",
      "/Users/wenqi/Desktop/capstone/COVID-19-TweetIDs/all_id/all的副本11.txt\n",
      "/Users/wenqi/Desktop/capstone/COVID-19-TweetIDs/all_id/all的副本10.txt\n",
      "/Users/wenqi/Desktop/capstone/COVID-19-TweetIDs/all_id/all的副本12.txt\n",
      "/Users/wenqi/Desktop/capstone/COVID-19-TweetIDs/all_id/all的副本13.txt\n",
      "/Users/wenqi/Desktop/capstone/COVID-19-TweetIDs/all_id/all的副本9.txt\n",
      "/Users/wenqi/Desktop/capstone/COVID-19-TweetIDs/all_id/all的副本8.txt\n"
     ]
    }
   ],
   "source": [
    "for file in file_all:\n",
    "    if file.endswith('.txt'):\n",
    "        path = os.path.join(folder_path,file)\n",
    "        for line in open(path):\n",
    "            new_file.writelines(line)\n",
    "    print(path)"
   ]
  },
  {
   "cell_type": "code",
   "execution_count": null,
   "id": "e299a659",
   "metadata": {},
   "outputs": [],
   "source": []
  }
 ],
 "metadata": {
  "kernelspec": {
   "display_name": "Python 3",
   "language": "python",
   "name": "python3"
  },
  "language_info": {
   "codemirror_mode": {
    "name": "ipython",
    "version": 3
   },
   "file_extension": ".py",
   "mimetype": "text/x-python",
   "name": "python",
   "nbconvert_exporter": "python",
   "pygments_lexer": "ipython3",
   "version": "3.8.8"
  }
 },
 "nbformat": 4,
 "nbformat_minor": 5
}
