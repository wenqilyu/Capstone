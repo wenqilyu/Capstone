{
  "cells": [
    {
      "cell_type": "markdown",
      "metadata": {
        "id": "view-in-github",
        "colab_type": "text"
      },
      "source": [
        "<a href=\"https://colab.research.google.com/github/wenqilyu/Capstone/blob/main/clean_data.ipynb\" target=\"_parent\"><img src=\"https://colab.research.google.com/assets/colab-badge.svg\" alt=\"Open In Colab\"/></a>"
      ]
    },
    {
      "cell_type": "code",
      "execution_count": null,
      "metadata": {
        "colab": {
          "base_uri": "https://localhost:8080/"
        },
        "id": "-eFLqXf6jfCz",
        "outputId": "6bcfd208-c0d2-41eb-ec32-ee5f356d226d"
      },
      "outputs": [
        {
          "name": "stdout",
          "output_type": "stream",
          "text": [
            "Drive already mounted at /content/gdrive; to attempt to forcibly remount, call drive.mount(\"/content/gdrive\", force_remount=True).\n",
            "/content/gdrive/MyDrive/Capstone\n"
          ]
        }
      ],
      "source": [
        "from google.colab import drive\n",
        "drive.mount('/content/gdrive')\n",
        "%cd /content/gdrive/MyDrive/Capstone\n",
        "\n",
        "import re\n",
        "import pandas as pd\n",
        "import string"
      ]
    },
    {
      "cell_type": "code",
      "execution_count": null,
      "metadata": {
        "colab": {
          "base_uri": "https://localhost:8080/"
        },
        "id": "Ta8ovPMlgceT",
        "outputId": "9f35143d-8203-452f-d07c-1e66fb927e6f"
      },
      "outputs": [
        {
          "name": "stdout",
          "output_type": "stream",
          "text": [
            "Your runtime has 13.6 gigabytes of available RAM\n",
            "\n",
            "Not using a high-RAM runtime\n"
          ]
        }
      ],
      "source": [
        "from psutil import virtual_memory\n",
        "ram_gb = virtual_memory().total / 1e9\n",
        "print('Your runtime has {:.1f} gigabytes of available RAM\\n'.format(ram_gb))\n",
        "\n",
        "if ram_gb < 20:\n",
        "  print('Not using a high-RAM runtime')\n",
        "else:\n",
        "  print('You are using a high-RAM runtime!')"
      ]
    },
    {
      "cell_type": "markdown",
      "metadata": {
        "id": "Sy5xi9QSydU3"
      },
      "source": [
        "## Review Data"
      ]
    },
    {
      "cell_type": "code",
      "execution_count": null,
      "metadata": {
        "colab": {
          "base_uri": "https://localhost:8080/"
        },
        "id": "syJg_X1zH_pf",
        "outputId": "a19c931e-cc88-417d-82bd-8334ab0ccc73"
      },
      "outputs": [
        {
          "name": "stderr",
          "output_type": "stream",
          "text": [
            "/usr/local/lib/python3.7/dist-packages/IPython/core/interactiveshell.py:2882: DtypeWarning: Columns (0) have mixed types.Specify dtype option on import or set low_memory=False.\n",
            "  exec(code_obj, self.user_global_ns, self.user_ns)\n"
          ]
        }
      ],
      "source": [
        "all_tweets = pd.read_csv('all_id_combined.csv')"
      ]
    },
    {
      "cell_type": "code",
      "execution_count": null,
      "metadata": {
        "colab": {
          "base_uri": "https://localhost:8080/",
          "height": 444
        },
        "id": "x_pceId0IFcr",
        "outputId": "cb48721f-4bc5-405c-b7a0-6f1c4b8c89ef"
      },
      "outputs": [
        {
          "data": {
            "text/html": [
              "\n",
              "  <div id=\"df-955e4c7e-9fb7-4730-bf42-15bcb736d7f5\">\n",
              "    <div class=\"colab-df-container\">\n",
              "      <div>\n",
              "<style scoped>\n",
              "    .dataframe tbody tr th:only-of-type {\n",
              "        vertical-align: middle;\n",
              "    }\n",
              "\n",
              "    .dataframe tbody tr th {\n",
              "        vertical-align: top;\n",
              "    }\n",
              "\n",
              "    .dataframe thead th {\n",
              "        text-align: right;\n",
              "    }\n",
              "</style>\n",
              "<table border=\"1\" class=\"dataframe\">\n",
              "  <thead>\n",
              "    <tr style=\"text-align: right;\">\n",
              "      <th></th>\n",
              "      <th>coordinates</th>\n",
              "      <th>created_at</th>\n",
              "      <th>hashtags</th>\n",
              "      <th>media</th>\n",
              "      <th>urls</th>\n",
              "      <th>favorite_count</th>\n",
              "      <th>id</th>\n",
              "      <th>in_reply_to_screen_name</th>\n",
              "      <th>in_reply_to_status_id</th>\n",
              "      <th>in_reply_to_user_id</th>\n",
              "      <th>lang</th>\n",
              "      <th>place</th>\n",
              "      <th>possibly_sensitive</th>\n",
              "      <th>quote_id</th>\n",
              "      <th>retweet_count</th>\n",
              "      <th>retweet_id</th>\n",
              "      <th>retweet_screen_name</th>\n",
              "      <th>source</th>\n",
              "      <th>text</th>\n",
              "      <th>tweet_url</th>\n",
              "      <th>user_created_at</th>\n",
              "      <th>user_id</th>\n",
              "      <th>user_default_profile_image</th>\n",
              "      <th>user_description</th>\n",
              "      <th>user_favourites_count</th>\n",
              "      <th>user_followers_count</th>\n",
              "      <th>user_friends_count</th>\n",
              "      <th>user_listed_count</th>\n",
              "      <th>user_location</th>\n",
              "      <th>user_name</th>\n",
              "      <th>user_screen_name</th>\n",
              "      <th>user_statuses_count</th>\n",
              "      <th>user_time_zone</th>\n",
              "      <th>user_urls</th>\n",
              "      <th>user_verified</th>\n",
              "    </tr>\n",
              "  </thead>\n",
              "  <tbody>\n",
              "    <tr>\n",
              "      <th>0</th>\n",
              "      <td>NaN</td>\n",
              "      <td>Tue Jul 14 14:28:11 +0000 2020</td>\n",
              "      <td>NaN</td>\n",
              "      <td>NaN</td>\n",
              "      <td>NaN</td>\n",
              "      <td>0</td>\n",
              "      <td>1283045634879234051</td>\n",
              "      <td>NaN</td>\n",
              "      <td>NaN</td>\n",
              "      <td>NaN</td>\n",
              "      <td>en</td>\n",
              "      <td>NaN</td>\n",
              "      <td>NaN</td>\n",
              "      <td>1.282771e+18</td>\n",
              "      <td>1</td>\n",
              "      <td>1.283038e+18</td>\n",
              "      <td>HellAnnBack</td>\n",
              "      <td>&lt;a href=\"http://twitter.com/download/android\" ...</td>\n",
              "      <td>Mask nazis? What a guy, this mayor. But this i...</td>\n",
              "      <td>https://twitter.com/jellison_pat/status/128304...</td>\n",
              "      <td>Sun Jul 28 17:11:46 +0000 2019</td>\n",
              "      <td>1155526269255241728</td>\n",
              "      <td>False</td>\n",
              "      <td>Sense of humor, think Far Side. Thinks outside...</td>\n",
              "      <td>83756</td>\n",
              "      <td>784</td>\n",
              "      <td>823</td>\n",
              "      <td>0</td>\n",
              "      <td>NaN</td>\n",
              "      <td>Pat Jellison</td>\n",
              "      <td>jellison_pat</td>\n",
              "      <td>27989</td>\n",
              "      <td>NaN</td>\n",
              "      <td>NaN</td>\n",
              "      <td>False</td>\n",
              "    </tr>\n",
              "    <tr>\n",
              "      <th>1</th>\n",
              "      <td>NaN</td>\n",
              "      <td>Tue Jul 14 14:28:11 +0000 2020</td>\n",
              "      <td>NaN</td>\n",
              "      <td>NaN</td>\n",
              "      <td>NaN</td>\n",
              "      <td>0</td>\n",
              "      <td>1283045635235745794</td>\n",
              "      <td>NaN</td>\n",
              "      <td>NaN</td>\n",
              "      <td>NaN</td>\n",
              "      <td>en</td>\n",
              "      <td>NaN</td>\n",
              "      <td>NaN</td>\n",
              "      <td>1.282983e+18</td>\n",
              "      <td>111</td>\n",
              "      <td>1.283043e+18</td>\n",
              "      <td>RLHeinrichs</td>\n",
              "      <td>&lt;a href=\"http://twitter.com/download/iphone\" r...</td>\n",
              "      <td>Uh. You guys. “Orlando Health, the only to ans...</td>\n",
              "      <td>https://twitter.com/ladyoutlander72/status/128...</td>\n",
              "      <td>Sun Feb 25 21:22:14 +0000 2018</td>\n",
              "      <td>967872389274112006</td>\n",
              "      <td>False</td>\n",
              "      <td>Constitutional Conservative, wife, mother, mem...</td>\n",
              "      <td>5555</td>\n",
              "      <td>5986</td>\n",
              "      <td>6104</td>\n",
              "      <td>1</td>\n",
              "      <td>Texas, USA</td>\n",
              "      <td>Kricket Dalais</td>\n",
              "      <td>ladyoutlander72</td>\n",
              "      <td>23356</td>\n",
              "      <td>NaN</td>\n",
              "      <td>NaN</td>\n",
              "      <td>False</td>\n",
              "    </tr>\n",
              "    <tr>\n",
              "      <th>2</th>\n",
              "      <td>NaN</td>\n",
              "      <td>Mon Jul 13 09:47:32 +0000 2020</td>\n",
              "      <td>COVID19</td>\n",
              "      <td>NaN</td>\n",
              "      <td>https://twitter.com/catalayahere/status/128241...</td>\n",
              "      <td>1</td>\n",
              "      <td>1282612619497676800</td>\n",
              "      <td>NaN</td>\n",
              "      <td>NaN</td>\n",
              "      <td>NaN</td>\n",
              "      <td>en</td>\n",
              "      <td>NaN</td>\n",
              "      <td>False</td>\n",
              "      <td>1.282418e+18</td>\n",
              "      <td>0</td>\n",
              "      <td>NaN</td>\n",
              "      <td>NaN</td>\n",
              "      <td>&lt;a href=\"http://twitter.com/download/android\" ...</td>\n",
              "      <td>Eye opening thread about #COVID19  and 1% mort...</td>\n",
              "      <td>https://twitter.com/DrMphoMalatji/status/12826...</td>\n",
              "      <td>Mon Sep 20 22:33:46 +0000 2010</td>\n",
              "      <td>193077115</td>\n",
              "      <td>False</td>\n",
              "      <td>•Philosopher\\n•Indigenous Knowledge Librarian\\...</td>\n",
              "      <td>3590</td>\n",
              "      <td>4414</td>\n",
              "      <td>3609</td>\n",
              "      <td>1</td>\n",
              "      <td>Johannesburg</td>\n",
              "      <td>Dr Mpho Malatji</td>\n",
              "      <td>DrMphoMalatji</td>\n",
              "      <td>7099</td>\n",
              "      <td>NaN</td>\n",
              "      <td>NaN</td>\n",
              "      <td>False</td>\n",
              "    </tr>\n",
              "    <tr>\n",
              "      <th>3</th>\n",
              "      <td>NaN</td>\n",
              "      <td>Mon Jul 13 09:38:04 +0000 2020</td>\n",
              "      <td>NaN</td>\n",
              "      <td>NaN</td>\n",
              "      <td>NaN</td>\n",
              "      <td>0</td>\n",
              "      <td>1282610233714585600</td>\n",
              "      <td>NaN</td>\n",
              "      <td>NaN</td>\n",
              "      <td>NaN</td>\n",
              "      <td>en</td>\n",
              "      <td>NaN</td>\n",
              "      <td>NaN</td>\n",
              "      <td>NaN</td>\n",
              "      <td>99</td>\n",
              "      <td>1.282582e+18</td>\n",
              "      <td>ABC</td>\n",
              "      <td>&lt;a href=\"http://twitter.com/download/iphone\" r...</td>\n",
              "      <td>More than six months into the global pandemic,...</td>\n",
              "      <td>https://twitter.com/ksev4/status/1282610233714...</td>\n",
              "      <td>Fri Apr 01 22:05:36 +0000 2011</td>\n",
              "      <td>275735030</td>\n",
              "      <td>False</td>\n",
              "      <td>My heart wants to sigh like a chime that flies...</td>\n",
              "      <td>732909</td>\n",
              "      <td>1447</td>\n",
              "      <td>718</td>\n",
              "      <td>30</td>\n",
              "      <td>Wells, Maine</td>\n",
              "      <td>Katherine H Sevigney</td>\n",
              "      <td>ksev4</td>\n",
              "      <td>143442</td>\n",
              "      <td>NaN</td>\n",
              "      <td>http://KHSJourneyTo30.weebly.com</td>\n",
              "      <td>False</td>\n",
              "    </tr>\n",
              "    <tr>\n",
              "      <th>4</th>\n",
              "      <td>NaN</td>\n",
              "      <td>Tue Jul 14 14:55:31 +0000 2020</td>\n",
              "      <td>NaN</td>\n",
              "      <td>NaN</td>\n",
              "      <td>https://twitter.com/Fox35Amy/status/1282982855...</td>\n",
              "      <td>0</td>\n",
              "      <td>1283052510689800192</td>\n",
              "      <td>NaN</td>\n",
              "      <td>NaN</td>\n",
              "      <td>NaN</td>\n",
              "      <td>en</td>\n",
              "      <td>NaN</td>\n",
              "      <td>False</td>\n",
              "      <td>1.282983e+18</td>\n",
              "      <td>425</td>\n",
              "      <td>1.283045e+18</td>\n",
              "      <td>atensnut</td>\n",
              "      <td>&lt;a href=\"https://mobile.twitter.com\" rel=\"nofo...</td>\n",
              "      <td>Paging @GovRonDeSantis https://t.co/usrBnKOLAH</td>\n",
              "      <td>https://twitter.com/katsnbears/status/12830525...</td>\n",
              "      <td>Fri Aug 16 00:32:04 +0000 2013</td>\n",
              "      <td>1674389960</td>\n",
              "      <td>False</td>\n",
              "      <td>🍊🇺🇸❤️#MAGA, #Patriot #LovemyCountry #TrumpWon!...</td>\n",
              "      <td>50728</td>\n",
              "      <td>5117</td>\n",
              "      <td>5113</td>\n",
              "      <td>1</td>\n",
              "      <td>Beautiful state of Tennessee</td>\n",
              "      <td>Anne</td>\n",
              "      <td>katsnbears</td>\n",
              "      <td>42021</td>\n",
              "      <td>NaN</td>\n",
              "      <td>NaN</td>\n",
              "      <td>False</td>\n",
              "    </tr>\n",
              "  </tbody>\n",
              "</table>\n",
              "</div>\n",
              "      <button class=\"colab-df-convert\" onclick=\"convertToInteractive('df-955e4c7e-9fb7-4730-bf42-15bcb736d7f5')\"\n",
              "              title=\"Convert this dataframe to an interactive table.\"\n",
              "              style=\"display:none;\">\n",
              "        \n",
              "  <svg xmlns=\"http://www.w3.org/2000/svg\" height=\"24px\"viewBox=\"0 0 24 24\"\n",
              "       width=\"24px\">\n",
              "    <path d=\"M0 0h24v24H0V0z\" fill=\"none\"/>\n",
              "    <path d=\"M18.56 5.44l.94 2.06.94-2.06 2.06-.94-2.06-.94-.94-2.06-.94 2.06-2.06.94zm-11 1L8.5 8.5l.94-2.06 2.06-.94-2.06-.94L8.5 2.5l-.94 2.06-2.06.94zm10 10l.94 2.06.94-2.06 2.06-.94-2.06-.94-.94-2.06-.94 2.06-2.06.94z\"/><path d=\"M17.41 7.96l-1.37-1.37c-.4-.4-.92-.59-1.43-.59-.52 0-1.04.2-1.43.59L10.3 9.45l-7.72 7.72c-.78.78-.78 2.05 0 2.83L4 21.41c.39.39.9.59 1.41.59.51 0 1.02-.2 1.41-.59l7.78-7.78 2.81-2.81c.8-.78.8-2.07 0-2.86zM5.41 20L4 18.59l7.72-7.72 1.47 1.35L5.41 20z\"/>\n",
              "  </svg>\n",
              "      </button>\n",
              "      \n",
              "  <style>\n",
              "    .colab-df-container {\n",
              "      display:flex;\n",
              "      flex-wrap:wrap;\n",
              "      gap: 12px;\n",
              "    }\n",
              "\n",
              "    .colab-df-convert {\n",
              "      background-color: #E8F0FE;\n",
              "      border: none;\n",
              "      border-radius: 50%;\n",
              "      cursor: pointer;\n",
              "      display: none;\n",
              "      fill: #1967D2;\n",
              "      height: 32px;\n",
              "      padding: 0 0 0 0;\n",
              "      width: 32px;\n",
              "    }\n",
              "\n",
              "    .colab-df-convert:hover {\n",
              "      background-color: #E2EBFA;\n",
              "      box-shadow: 0px 1px 2px rgba(60, 64, 67, 0.3), 0px 1px 3px 1px rgba(60, 64, 67, 0.15);\n",
              "      fill: #174EA6;\n",
              "    }\n",
              "\n",
              "    [theme=dark] .colab-df-convert {\n",
              "      background-color: #3B4455;\n",
              "      fill: #D2E3FC;\n",
              "    }\n",
              "\n",
              "    [theme=dark] .colab-df-convert:hover {\n",
              "      background-color: #434B5C;\n",
              "      box-shadow: 0px 1px 3px 1px rgba(0, 0, 0, 0.15);\n",
              "      filter: drop-shadow(0px 1px 2px rgba(0, 0, 0, 0.3));\n",
              "      fill: #FFFFFF;\n",
              "    }\n",
              "  </style>\n",
              "\n",
              "      <script>\n",
              "        const buttonEl =\n",
              "          document.querySelector('#df-955e4c7e-9fb7-4730-bf42-15bcb736d7f5 button.colab-df-convert');\n",
              "        buttonEl.style.display =\n",
              "          google.colab.kernel.accessAllowed ? 'block' : 'none';\n",
              "\n",
              "        async function convertToInteractive(key) {\n",
              "          const element = document.querySelector('#df-955e4c7e-9fb7-4730-bf42-15bcb736d7f5');\n",
              "          const dataTable =\n",
              "            await google.colab.kernel.invokeFunction('convertToInteractive',\n",
              "                                                     [key], {});\n",
              "          if (!dataTable) return;\n",
              "\n",
              "          const docLinkHtml = 'Like what you see? Visit the ' +\n",
              "            '<a target=\"_blank\" href=https://colab.research.google.com/notebooks/data_table.ipynb>data table notebook</a>'\n",
              "            + ' to learn more about interactive tables.';\n",
              "          element.innerHTML = '';\n",
              "          dataTable['output_type'] = 'display_data';\n",
              "          await google.colab.output.renderOutput(dataTable, element);\n",
              "          const docLink = document.createElement('div');\n",
              "          docLink.innerHTML = docLinkHtml;\n",
              "          element.appendChild(docLink);\n",
              "        }\n",
              "      </script>\n",
              "    </div>\n",
              "  </div>\n",
              "  "
            ],
            "text/plain": [
              "  coordinates  ... user_verified\n",
              "0         NaN  ...         False\n",
              "1         NaN  ...         False\n",
              "2         NaN  ...         False\n",
              "3         NaN  ...         False\n",
              "4         NaN  ...         False\n",
              "\n",
              "[5 rows x 35 columns]"
            ]
          },
          "execution_count": 18,
          "metadata": {},
          "output_type": "execute_result"
        }
      ],
      "source": [
        "all_tweets.head()"
      ]
    },
    {
      "cell_type": "code",
      "execution_count": null,
      "metadata": {
        "colab": {
          "base_uri": "https://localhost:8080/"
        },
        "id": "kycus6OmIMHa",
        "outputId": "d4c237d4-74f7-45ea-a064-a0b9872a56cf"
      },
      "outputs": [
        {
          "data": {
            "text/plain": [
              "array(['coordinates', 'created_at', 'hashtags', 'media', 'urls',\n",
              "       'favorite_count', 'id', 'in_reply_to_screen_name',\n",
              "       'in_reply_to_status_id', 'in_reply_to_user_id', 'lang', 'place',\n",
              "       'possibly_sensitive', 'quote_id', 'retweet_count', 'retweet_id',\n",
              "       'retweet_screen_name', 'source', 'text', 'tweet_url',\n",
              "       'user_created_at', 'user_id', 'user_default_profile_image',\n",
              "       'user_description', 'user_favourites_count',\n",
              "       'user_followers_count', 'user_friends_count', 'user_listed_count',\n",
              "       'user_location', 'user_name', 'user_screen_name',\n",
              "       'user_statuses_count', 'user_time_zone', 'user_urls',\n",
              "       'user_verified'], dtype=object)"
            ]
          },
          "execution_count": 9,
          "metadata": {},
          "output_type": "execute_result"
        }
      ],
      "source": [
        "all_tweets.columns.values"
      ]
    },
    {
      "cell_type": "markdown",
      "metadata": {
        "id": "eJZ9TVrlyh89"
      },
      "source": [
        "## Process Data"
      ]
    },
    {
      "cell_type": "code",
      "execution_count": null,
      "metadata": {
        "id": "E4t2rZ3tvtlY"
      },
      "outputs": [],
      "source": [
        "puncts = list(string.punctuation)"
      ]
    },
    {
      "cell_type": "code",
      "execution_count": null,
      "metadata": {
        "id": "o1ZwKEyOyZkx"
      },
      "outputs": [],
      "source": [
        "def clean_data(text):\n",
        "  # delete punctuation\n",
        "  for punc in puncts:\n",
        "    if punc in text:\n",
        "      text = text.replace(punc, f'')\n",
        "  #make the text lower case\n",
        "  text=text.lower()\n",
        "  # delete the url\n",
        "  text=re.sub(r'(https|http)?:\\/\\/(\\w|\\.|\\/|\\?|\\=|\\&|\\%)*\\b', '', text)\n",
        "  # delete the email\n",
        "  text=re.sub(r'^([\\w]+\\.*)([\\w]+)\\@[\\w]+\\.\\w{3}(\\.\\w{2}|)', '', text)\n",
        "  # delete @someone\n",
        "  text=re.sub(r'@\\S+', '', text)\n",
        "  # delete #tags\n",
        "  text=re.sub(r'#\\S+', '', text)\n",
        "  # delete \\n\n",
        "  text=re.sub(r'^\\s*$(?:\\n|\\r\\n)', '', text)\n",
        "  return text"
      ]
    },
    {
      "cell_type": "code",
      "execution_count": null,
      "metadata": {
        "id": "PApea_x9UeBN"
      },
      "outputs": [],
      "source": [
        "all_tweets['text']=all_tweets['text'].apply(clean_data)"
      ]
    },
    {
      "cell_type": "code",
      "execution_count": null,
      "metadata": {
        "id": "VgFDanLvxq_F"
      },
      "outputs": [],
      "source": [
        "all_tweets['text']"
      ]
    },
    {
      "cell_type": "markdown",
      "metadata": {
        "id": "rXL_JiGHYr7f"
      },
      "source": [
        "## Delete Stop words Data"
      ]
    },
    {
      "cell_type": "code",
      "execution_count": null,
      "metadata": {
        "colab": {
          "background_save": true
        },
        "id": "OCG9ThJYYO4R",
        "outputId": "0fb8e285-bc68-458e-9353-c40ac0f371f3"
      },
      "outputs": [
        {
          "name": "stdout",
          "output_type": "stream",
          "text": [
            "Requirement already satisfied: spacy in /usr/local/lib/python3.7/dist-packages (2.2.4)\n",
            "Requirement already satisfied: cymem<2.1.0,>=2.0.2 in /usr/local/lib/python3.7/dist-packages (from spacy) (2.0.6)\n",
            "Requirement already satisfied: preshed<3.1.0,>=3.0.2 in /usr/local/lib/python3.7/dist-packages (from spacy) (3.0.6)\n",
            "Requirement already satisfied: wasabi<1.1.0,>=0.4.0 in /usr/local/lib/python3.7/dist-packages (from spacy) (0.9.0)\n",
            "Requirement already satisfied: setuptools in /usr/local/lib/python3.7/dist-packages (from spacy) (57.4.0)\n",
            "Requirement already satisfied: murmurhash<1.1.0,>=0.28.0 in /usr/local/lib/python3.7/dist-packages (from spacy) (1.0.6)\n",
            "Requirement already satisfied: catalogue<1.1.0,>=0.0.7 in /usr/local/lib/python3.7/dist-packages (from spacy) (1.0.0)\n",
            "Requirement already satisfied: requests<3.0.0,>=2.13.0 in /usr/local/lib/python3.7/dist-packages (from spacy) (2.23.0)\n",
            "Requirement already satisfied: srsly<1.1.0,>=1.0.2 in /usr/local/lib/python3.7/dist-packages (from spacy) (1.0.5)\n",
            "Requirement already satisfied: blis<0.5.0,>=0.4.0 in /usr/local/lib/python3.7/dist-packages (from spacy) (0.4.1)\n",
            "Requirement already satisfied: plac<1.2.0,>=0.9.6 in /usr/local/lib/python3.7/dist-packages (from spacy) (1.1.3)\n",
            "Requirement already satisfied: numpy>=1.15.0 in /usr/local/lib/python3.7/dist-packages (from spacy) (1.19.5)\n",
            "Requirement already satisfied: tqdm<5.0.0,>=4.38.0 in /usr/local/lib/python3.7/dist-packages (from spacy) (4.62.3)\n",
            "Requirement already satisfied: thinc==7.4.0 in /usr/local/lib/python3.7/dist-packages (from spacy) (7.4.0)\n",
            "Requirement already satisfied: importlib-metadata>=0.20 in /usr/local/lib/python3.7/dist-packages (from catalogue<1.1.0,>=0.0.7->spacy) (4.10.1)\n",
            "Requirement already satisfied: zipp>=0.5 in /usr/local/lib/python3.7/dist-packages (from importlib-metadata>=0.20->catalogue<1.1.0,>=0.0.7->spacy) (3.7.0)\n",
            "Requirement already satisfied: typing-extensions>=3.6.4 in /usr/local/lib/python3.7/dist-packages (from importlib-metadata>=0.20->catalogue<1.1.0,>=0.0.7->spacy) (3.10.0.2)\n",
            "Requirement already satisfied: certifi>=2017.4.17 in /usr/local/lib/python3.7/dist-packages (from requests<3.0.0,>=2.13.0->spacy) (2021.10.8)\n",
            "Requirement already satisfied: chardet<4,>=3.0.2 in /usr/local/lib/python3.7/dist-packages (from requests<3.0.0,>=2.13.0->spacy) (3.0.4)\n",
            "Requirement already satisfied: idna<3,>=2.5 in /usr/local/lib/python3.7/dist-packages (from requests<3.0.0,>=2.13.0->spacy) (2.10)\n",
            "Requirement already satisfied: urllib3!=1.25.0,!=1.25.1,<1.26,>=1.21.1 in /usr/local/lib/python3.7/dist-packages (from requests<3.0.0,>=2.13.0->spacy) (1.24.3)\n",
            "Collecting spacy_cld\n",
            "  Downloading spacy_cld-0.1.0.tar.gz (3.3 kB)\n",
            "Requirement already satisfied: spacy<3.0.0,>=2.0.0 in /usr/local/lib/python3.7/dist-packages (from spacy_cld) (2.2.4)\n",
            "Collecting pycld2>=0.31\n",
            "  Downloading pycld2-0.41.tar.gz (41.4 MB)\n",
            "\u001b[K     |████████████████████████████████| 41.4 MB 1.3 MB/s \n",
            "\u001b[?25hRequirement already satisfied: requests<3.0.0,>=2.13.0 in /usr/local/lib/python3.7/dist-packages (from spacy<3.0.0,>=2.0.0->spacy_cld) (2.23.0)\n",
            "Requirement already satisfied: numpy>=1.15.0 in /usr/local/lib/python3.7/dist-packages (from spacy<3.0.0,>=2.0.0->spacy_cld) (1.19.5)\n",
            "Requirement already satisfied: setuptools in /usr/local/lib/python3.7/dist-packages (from spacy<3.0.0,>=2.0.0->spacy_cld) (57.4.0)\n",
            "Requirement already satisfied: tqdm<5.0.0,>=4.38.0 in /usr/local/lib/python3.7/dist-packages (from spacy<3.0.0,>=2.0.0->spacy_cld) (4.62.3)\n",
            "Requirement already satisfied: plac<1.2.0,>=0.9.6 in /usr/local/lib/python3.7/dist-packages (from spacy<3.0.0,>=2.0.0->spacy_cld) (1.1.3)\n",
            "Requirement already satisfied: cymem<2.1.0,>=2.0.2 in /usr/local/lib/python3.7/dist-packages (from spacy<3.0.0,>=2.0.0->spacy_cld) (2.0.6)\n",
            "Requirement already satisfied: wasabi<1.1.0,>=0.4.0 in /usr/local/lib/python3.7/dist-packages (from spacy<3.0.0,>=2.0.0->spacy_cld) (0.9.0)\n",
            "Requirement already satisfied: srsly<1.1.0,>=1.0.2 in /usr/local/lib/python3.7/dist-packages (from spacy<3.0.0,>=2.0.0->spacy_cld) (1.0.5)\n",
            "Requirement already satisfied: catalogue<1.1.0,>=0.0.7 in /usr/local/lib/python3.7/dist-packages (from spacy<3.0.0,>=2.0.0->spacy_cld) (1.0.0)\n",
            "Requirement already satisfied: murmurhash<1.1.0,>=0.28.0 in /usr/local/lib/python3.7/dist-packages (from spacy<3.0.0,>=2.0.0->spacy_cld) (1.0.6)\n",
            "Requirement already satisfied: preshed<3.1.0,>=3.0.2 in /usr/local/lib/python3.7/dist-packages (from spacy<3.0.0,>=2.0.0->spacy_cld) (3.0.6)\n",
            "Requirement already satisfied: thinc==7.4.0 in /usr/local/lib/python3.7/dist-packages (from spacy<3.0.0,>=2.0.0->spacy_cld) (7.4.0)\n",
            "Requirement already satisfied: blis<0.5.0,>=0.4.0 in /usr/local/lib/python3.7/dist-packages (from spacy<3.0.0,>=2.0.0->spacy_cld) (0.4.1)\n",
            "Requirement already satisfied: importlib-metadata>=0.20 in /usr/local/lib/python3.7/dist-packages (from catalogue<1.1.0,>=0.0.7->spacy<3.0.0,>=2.0.0->spacy_cld) (4.10.1)\n",
            "Requirement already satisfied: zipp>=0.5 in /usr/local/lib/python3.7/dist-packages (from importlib-metadata>=0.20->catalogue<1.1.0,>=0.0.7->spacy<3.0.0,>=2.0.0->spacy_cld) (3.7.0)\n",
            "Requirement already satisfied: typing-extensions>=3.6.4 in /usr/local/lib/python3.7/dist-packages (from importlib-metadata>=0.20->catalogue<1.1.0,>=0.0.7->spacy<3.0.0,>=2.0.0->spacy_cld) (3.10.0.2)\n",
            "Requirement already satisfied: idna<3,>=2.5 in /usr/local/lib/python3.7/dist-packages (from requests<3.0.0,>=2.13.0->spacy<3.0.0,>=2.0.0->spacy_cld) (2.10)\n",
            "Requirement already satisfied: certifi>=2017.4.17 in /usr/local/lib/python3.7/dist-packages (from requests<3.0.0,>=2.13.0->spacy<3.0.0,>=2.0.0->spacy_cld) (2021.10.8)\n",
            "Requirement already satisfied: urllib3!=1.25.0,!=1.25.1,<1.26,>=1.21.1 in /usr/local/lib/python3.7/dist-packages (from requests<3.0.0,>=2.13.0->spacy<3.0.0,>=2.0.0->spacy_cld) (1.24.3)\n",
            "Requirement already satisfied: chardet<4,>=3.0.2 in /usr/local/lib/python3.7/dist-packages (from requests<3.0.0,>=2.13.0->spacy<3.0.0,>=2.0.0->spacy_cld) (3.0.4)\n",
            "Building wheels for collected packages: spacy-cld, pycld2\n",
            "  Building wheel for spacy-cld (setup.py) ... \u001b[?25l\u001b[?25hdone\n",
            "  Created wheel for spacy-cld: filename=spacy_cld-0.1.0-py3-none-any.whl size=4065 sha256=307b3d7effe32b0753dbdf04cbe796dcd157eb9c480a126a3089de24b8a781de\n",
            "  Stored in directory: /root/.cache/pip/wheels/82/6b/8f/260626615a2629391aca1fce5d3c676dde154f8aabb18d25bf\n",
            "  Building wheel for pycld2 (setup.py) ... \u001b[?25l\u001b[?25hdone\n",
            "  Created wheel for pycld2: filename=pycld2-0.41-cp37-cp37m-linux_x86_64.whl size=9834387 sha256=9f4d06c87136100e550fa822dc1422bffbba92a2f205947a9183a804afd3292f\n",
            "  Stored in directory: /root/.cache/pip/wheels/ed/e4/58/ed2e9f43c07d617cc81fe7aff0fc6e42b16c9cf6afe960b614\n",
            "Successfully built spacy-cld pycld2\n",
            "Installing collected packages: pycld2, spacy-cld\n",
            "Successfully installed pycld2-0.41 spacy-cld-0.1.0\n"
          ]
        }
      ],
      "source": [
        "! pip install spacy\n",
        "! pip install spacy_cld\n",
        "import spacy\n",
        "from spacy.lang.en.stop_words import STOP_WORDS\n",
        "from spacy.language import Language\n",
        "from spacy_cld import LanguageDetector\n",
        "nlp = spacy.load('en')\n",
        "language_detector = LanguageDetector()\n",
        "nlp.add_pipe(language_detector)\n"
      ]
    },
    {
      "cell_type": "code",
      "execution_count": null,
      "metadata": {
        "colab": {
          "background_save": true
        },
        "id": "7QwLQ0mFzykl"
      },
      "outputs": [],
      "source": [
        "all_tweets['language']='unknown'"
      ]
    },
    {
      "cell_type": "code",
      "execution_count": null,
      "metadata": {
        "colab": {
          "background_save": true,
          "base_uri": "https://localhost:8080/"
        },
        "id": "GY-skOlZzmG7",
        "outputId": "039cef60-183e-49ec-b735-ac7ee40bca07"
      },
      "outputs": [
        {
          "metadata": {
            "tags": null
          },
          "name": "stderr",
          "output_type": "stream",
          "text": [
            "/usr/local/lib/python3.7/dist-packages/ipykernel_launcher.py:4: SettingWithCopyWarning: \n",
            "A value is trying to be set on a copy of a slice from a DataFrame\n",
            "\n",
            "See the caveats in the documentation: https://pandas.pydata.org/pandas-docs/stable/user_guide/indexing.html#returning-a-view-versus-a-copy\n",
            "  after removing the cwd from sys.path.\n",
            "/usr/local/lib/python3.7/dist-packages/ipykernel_launcher.py:6: SettingWithCopyWarning: \n",
            "A value is trying to be set on a copy of a slice from a DataFrame\n",
            "\n",
            "See the caveats in the documentation: https://pandas.pydata.org/pandas-docs/stable/user_guide/indexing.html#returning-a-view-versus-a-copy\n",
            "  \n"
          ]
        }
      ],
      "source": [
        "for i in range(len(all_tweets)):\n",
        "  try:\n",
        "    doc = nlp(all_tweets['text'][i])\n",
        "    all_tweets['language'][i]=doc._.languages\n",
        "  except:\n",
        "    all_tweets['language'][i]='failed'"
      ]
    },
    {
      "cell_type": "code",
      "execution_count": null,
      "metadata": {
        "id": "yXvuEav4OBVg"
      },
      "outputs": [],
      "source": [
        "all_tweets['language']"
      ]
    },
    {
      "cell_type": "code",
      "execution_count": null,
      "metadata": {
        "id": "rVDaklEq26do"
      },
      "outputs": [],
      "source": [
        "nlp = spacy.load('en_core_web_sm')"
      ]
    },
    {
      "cell_type": "code",
      "execution_count": null,
      "metadata": {
        "id": "MFUo1c8khJx3"
      },
      "outputs": [],
      "source": [
        "stopwords=list(STOP_WORDS)\n",
        "\n",
        "for word in stopwords:\n",
        "    nlp.vocab[word].is_stop = True"
      ]
    },
    {
      "cell_type": "code",
      "execution_count": null,
      "metadata": {
        "id": "nRs9b1Y8lGaZ"
      },
      "outputs": [],
      "source": [
        "all_tweets['text'] = all_tweets['text'].apply(lambda text: \n",
        "                                          \" \".join(token.lemma_ for token in nlp(text) \n",
        "                                                   if not token.is_stop))"
      ]
    },
    {
      "cell_type": "markdown",
      "metadata": {
        "id": "aE9a7CwpAfhT"
      },
      "source": [
        "# Detect English"
      ]
    },
    {
      "cell_type": "code",
      "execution_count": null,
      "metadata": {
        "id": "WigFmHfIAew0"
      },
      "outputs": [],
      "source": [
        "#Delete Null\n",
        "all_tweets=all_tweets[all_tweets['text'].isnull()==False]"
      ]
    },
    {
      "cell_type": "code",
      "execution_count": null,
      "metadata": {
        "id": "EuZ7PMeOA3Cn"
      },
      "outputs": [],
      "source": [
        "! pip install langdetect\n",
        "import langdetect"
      ]
    },
    {
      "cell_type": "code",
      "execution_count": null,
      "metadata": {
        "id": "K2bShE8lAlc_"
      },
      "outputs": [],
      "source": [
        "#Detect English\n",
        "all_tweets['Language'] = 'unknown'\n",
        "for i in range(len(all_tweets)):\n",
        "  try:\n",
        "    if langdetect.detect(all_tweets['text'][i])=='en':\n",
        "      all_tweets['Language'][i]='en'\n",
        "  except:\n",
        "    all_tweets['Language'][i]='delete'"
      ]
    },
    {
      "cell_type": "code",
      "execution_count": null,
      "metadata": {
        "id": "P8SIUQhjnNqy"
      },
      "outputs": [],
      "source": [
        "all_tweets.to_csv(\"output2.csv\")"
      ]
    },
    {
      "cell_type": "code",
      "execution_count": null,
      "metadata": {
        "id": "l51WeZ2-KMJr"
      },
      "outputs": [],
      "source": [
        "all_tweets['text']"
      ]
    },
    {
      "cell_type": "code",
      "execution_count": null,
      "metadata": {
        "id": "zffG-qxCLjxH"
      },
      "outputs": [],
      "source": [
        "pd.read_csv('output.csv').head()"
      ]
    },
    {
      "cell_type": "code",
      "execution_count": null,
      "metadata": {
        "id": "KOUxZ49HMUkE"
      },
      "outputs": [],
      "source": [
        ""
      ]
    }
  ],
  "metadata": {
    "colab": {
      "collapsed_sections": [],
      "name": "clean_data.ipynb",
      "provenance": [],
      "authorship_tag": "ABX9TyM3R37SYQXPJyp7nk7FUvni",
      "include_colab_link": true
    },
    "kernelspec": {
      "display_name": "Python 3",
      "name": "python3"
    },
    "language_info": {
      "name": "python"
    }
  },
  "nbformat": 4,
  "nbformat_minor": 0
}